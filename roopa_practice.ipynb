{
 "cells": [
  {
   "cell_type": "code",
   "execution_count": 2,
   "id": "67fe77b4",
   "metadata": {},
   "outputs": [
    {
     "name": "stdout",
     "output_type": "stream",
     "text": [
      "Hello I am Roopa\n",
      "This is Python Practice\n"
     ]
    }
   ],
   "source": [
    "str1=\"Hello I am Roopa\"\n",
    "str2=\"This is Python Practice\"\n",
    "print(str1)\n",
    "print(str2)"
   ]
  },
  {
   "cell_type": "code",
   "execution_count": 8,
   "id": "7be3bec8",
   "metadata": {},
   "outputs": [
    {
     "data": {
      "text/plain": [
       "2571029599200"
      ]
     },
     "execution_count": 8,
     "metadata": {},
     "output_type": "execute_result"
    }
   ],
   "source": [
    "str1='Hello I am Roopa'\n",
    "type(str1)\n",
    "id(str1)"
   ]
  },
  {
   "cell_type": "code",
   "execution_count": 9,
   "id": "a5e6886c",
   "metadata": {},
   "outputs": [
    {
     "data": {
      "text/plain": [
       "16"
      ]
     },
     "execution_count": 9,
     "metadata": {},
     "output_type": "execute_result"
    }
   ],
   "source": [
    "len(str1)"
   ]
  },
  {
   "cell_type": "code",
   "execution_count": 50,
   "id": "d8dc89ba",
   "metadata": {},
   "outputs": [
    {
     "name": "stdout",
     "output_type": "stream",
     "text": [
      "Happy\n",
      "Monday\n",
      "Everyone\n"
     ]
    }
   ],
   "source": [
    "mystr = ('Happy\\n' \n",
    "         'Monday\\n'\n",
    "         'Everyone')\n",
    "print(mystr)"
   ]
  },
  {
   "cell_type": "code",
   "execution_count": 11,
   "id": "c5609ef7",
   "metadata": {},
   "outputs": [
    {
     "name": "stdout",
     "output_type": "stream",
     "text": [
      "This is Python Practice\n"
     ]
    }
   ],
   "source": [
    "str2='This is Python Practice'\n",
    "print(str2)"
   ]
  },
  {
   "cell_type": "code",
   "execution_count": 16,
   "id": "1c5db8c4",
   "metadata": {},
   "outputs": [
    {
     "name": "stdout",
     "output_type": "stream",
     "text": [
      "This is python practice\n"
     ]
    }
   ],
   "source": [
    "str2='''This is python practice'''\n",
    "print(str2)"
   ]
  },
  {
   "cell_type": "code",
   "execution_count": 17,
   "id": "45fd4cc4",
   "metadata": {},
   "outputs": [
    {
     "name": "stdout",
     "output_type": "stream",
     "text": [
      "This is python's practice\n"
     ]
    }
   ],
   "source": [
    "str3=\"\"\"This is python's practice\"\"\"\n",
    "print(str3)"
   ]
  },
  {
   "cell_type": "code",
   "execution_count": 20,
   "id": "a5ee008c",
   "metadata": {},
   "outputs": [
    {
     "ename": "NameError",
     "evalue": "name 'str4' is not defined",
     "output_type": "error",
     "traceback": [
      "\u001b[1;31m---------------------------------------------------------------------------\u001b[0m",
      "\u001b[1;31mNameError\u001b[0m                                 Traceback (most recent call last)",
      "Cell \u001b[1;32mIn[20], line 1\u001b[0m\n\u001b[1;32m----> 1\u001b[0m \u001b[43mstr4\u001b[49m(\u001b[38;5;124m\"\u001b[39m\u001b[38;5;124mThis is Python\u001b[39m\u001b[38;5;124m'\u001b[39m\u001b[38;5;124ms practice\u001b[39m\u001b[38;5;124m\"\u001b[39m)\n\u001b[0;32m      2\u001b[0m \u001b[38;5;28mprint\u001b[39m(str4)\n",
      "\u001b[1;31mNameError\u001b[0m: name 'str4' is not defined"
     ]
    }
   ],
   "source": [
    "str4(\"This is Python's practice\")\n",
    "print(str4)"
   ]
  },
  {
   "cell_type": "code",
   "execution_count": 22,
   "id": "de729b00",
   "metadata": {},
   "outputs": [
    {
     "ename": "SyntaxError",
     "evalue": "invalid syntax. Perhaps you forgot a comma? (1719402378.py, line 1)",
     "output_type": "error",
     "traceback": [
      "\u001b[1;36m  Cell \u001b[1;32mIn[22], line 1\u001b[1;36m\u001b[0m\n\u001b[1;33m    str5(\"learn bay provides \"java\", \"python\" class\")\u001b[0m\n\u001b[1;37m         ^\u001b[0m\n\u001b[1;31mSyntaxError\u001b[0m\u001b[1;31m:\u001b[0m invalid syntax. Perhaps you forgot a comma?\n"
     ]
    }
   ],
   "source": [
    "str5(\"learn bay provides \"java\", \"python\" class\")\n",
    "print(str5)"
   ]
  },
  {
   "cell_type": "code",
   "execution_count": 23,
   "id": "9d01b739",
   "metadata": {},
   "outputs": [
    {
     "ename": "NameError",
     "evalue": "name 'str6' is not defined",
     "output_type": "error",
     "traceback": [
      "\u001b[1;31m---------------------------------------------------------------------------\u001b[0m",
      "\u001b[1;31mNameError\u001b[0m                                 Traceback (most recent call last)",
      "Cell \u001b[1;32mIn[23], line 1\u001b[0m\n\u001b[1;32m----> 1\u001b[0m \u001b[43mstr6\u001b[49m(\u001b[38;5;124m\"\"\"\u001b[39m\u001b[38;5;124mlearn bay provides \u001b[39m\u001b[38;5;124m\"\u001b[39m\u001b[38;5;124mjava\u001b[39m\u001b[38;5;124m\"\u001b[39m\u001b[38;5;124m, \u001b[39m\u001b[38;5;124m\"\u001b[39m\u001b[38;5;124mpython\u001b[39m\u001b[38;5;124m\"\u001b[39m\u001b[38;5;124m class\u001b[39m\u001b[38;5;124m\"\"\"\u001b[39m)\n",
      "\u001b[1;31mNameError\u001b[0m: name 'str6' is not defined"
     ]
    }
   ],
   "source": [
    "str6(\"\"\"learn bay provides \"java\", \"python\" class\"\"\")"
   ]
  },
  {
   "cell_type": "code",
   "execution_count": 29,
   "id": "1b48f7db",
   "metadata": {},
   "outputs": [
    {
     "name": "stdout",
     "output_type": "stream",
     "text": [
      "length of my str is 66\n"
     ]
    },
    {
     "data": {
      "text/plain": [
       "2571037227440"
      ]
     },
     "execution_count": 29,
     "metadata": {},
     "output_type": "execute_result"
    }
   ],
   "source": [
    "my_str = \"Although that way may not be obvious at first unless you're Dutch.\"\n",
    "my_str1 = \"Although that way may not be obvious at first unless you're Dutch.\"\n",
    "print(\"length of my str is\",len(my_str))\n",
    "id(my_str)\n",
    "id(my_str1)\n",
    "   "
   ]
  },
  {
   "cell_type": "code",
   "execution_count": 35,
   "id": "5151c9bf",
   "metadata": {},
   "outputs": [
    {
     "name": "stdout",
     "output_type": "stream",
     "text": [
      "id of my str and id of mystr1 is same\n"
     ]
    },
    {
     "data": {
      "text/plain": [
       "str"
      ]
     },
     "execution_count": 35,
     "metadata": {},
     "output_type": "execute_result"
    }
   ],
   "source": [
    "if id(my_str==my_str1):\n",
    "        print(\"id of my str and id of mystr1 is same\")\n",
    "type(my_str)"
   ]
  },
  {
   "cell_type": "code",
   "execution_count": 37,
   "id": "df8b885e",
   "metadata": {},
   "outputs": [
    {
     "name": "stdout",
     "output_type": "stream",
     "text": [
      "Although that way may not be obvious at first unless you're Dutch.\n"
     ]
    }
   ],
   "source": [
    "my_str = \"Although that way may not be obvious at first unless you're Dutch.\"\n",
    "print(my_str[::])"
   ]
  },
  {
   "cell_type": "code",
   "execution_count": 57,
   "id": "a976dda6",
   "metadata": {},
   "outputs": [
    {
     "name": "stdout",
     "output_type": "stream",
     "text": [
      ".hctuD er'uoy sselnu tsrif ta suoivbo eb ton yam yaw taht hguohtlA\n"
     ]
    },
    {
     "data": {
      "text/plain": [
       "66"
      ]
     },
     "execution_count": 57,
     "metadata": {},
     "output_type": "execute_result"
    }
   ],
   "source": [
    "my_str = \"Although that way may not be obvious at first unless you're Dutch.\"\n",
    "print(my_str[::-1])\n",
    "len(my_str)"
   ]
  },
  {
   "cell_type": "code",
   "execution_count": 40,
   "id": "042ce205",
   "metadata": {},
   "outputs": [
    {
     "name": "stdout",
     "output_type": "stream",
     "text": [
      "Ahgtt\n"
     ]
    }
   ],
   "source": [
    "my_str = \"Although that way may not be obvious at first unless you're Dutch.\"\n",
    "print(my_str[0:15:3])"
   ]
  },
  {
   "cell_type": "code",
   "execution_count": 44,
   "id": "ec612e97",
   "metadata": {},
   "outputs": [
    {
     "name": "stdout",
     "output_type": "stream",
     "text": [
      "hough that way may not be obvious at first \n"
     ]
    }
   ],
   "source": [
    "my_str = \"Although that way may not be obvious at first unless you're Dutch.\"\n",
    "print(my_str[3:-20])"
   ]
  },
  {
   "cell_type": "code",
   "execution_count": 53,
   "id": "337b0015",
   "metadata": {},
   "outputs": [
    {
     "name": "stdout",
     "output_type": "stream",
     "text": [
      "Atog htwymyntb biu tfrtuls o'eDth\n"
     ]
    }
   ],
   "source": [
    "my_str = \"Although that way may not be obvious at first unless you're Dutch.\"\n",
    "print(my_str[0::2])"
   ]
  },
  {
   "cell_type": "code",
   "execution_count": 55,
   "id": "0914f1cd",
   "metadata": {},
   "outputs": [
    {
     "name": "stdout",
     "output_type": "stream",
     "text": [
      "Ahgttam tebo  r lsorDc\n"
     ]
    }
   ],
   "source": [
    "my_str = \"Although that way may not be obvious at first unless you're Dutch.\"\n",
    "print(my_str[0::3])"
   ]
  },
  {
   "cell_type": "code",
   "execution_count": 63,
   "id": "0285a0ac",
   "metadata": {},
   "outputs": [
    {
     "name": "stdout",
     "output_type": "stream",
     "text": [
      ".cu ruysen si asovoe o a a athuhl\n"
     ]
    }
   ],
   "source": [
    "my_str = \"Although that way may not be obvious at first unless you're Dutch.\"\n",
    "print(my_str[::-2])"
   ]
  },
  {
   "cell_type": "code",
   "execution_count": 88,
   "id": "b6b80e1e",
   "metadata": {},
   "outputs": [
    {
     "name": "stdout",
     "output_type": "stream",
     "text": [
      "\n"
     ]
    }
   ],
   "source": [
    "my_str = \"Although that way may not be obvious at first unless you're Dutch.\"\n",
    "print(my_str[10:13:-1])"
   ]
  },
  {
   "cell_type": "code",
   "execution_count": 93,
   "id": "bf0439f3",
   "metadata": {},
   "outputs": [
    {
     "data": {
      "text/plain": [
       "True"
      ]
     },
     "execution_count": 93,
     "metadata": {},
     "output_type": "execute_result"
    }
   ],
   "source": [
    "str1=\"Python\"\n",
    "str2=\"Python\"\n",
    "\n",
    "str1==str2"
   ]
  },
  {
   "cell_type": "code",
   "execution_count": 95,
   "id": "95bc86c5",
   "metadata": {},
   "outputs": [
    {
     "data": {
      "text/plain": [
       "True"
      ]
     },
     "execution_count": 95,
     "metadata": {},
     "output_type": "execute_result"
    }
   ],
   "source": [
    "str1<=str2"
   ]
  },
  {
   "cell_type": "code",
   "execution_count": 96,
   "id": "a77c679d",
   "metadata": {},
   "outputs": [
    {
     "data": {
      "text/plain": [
       "True"
      ]
     },
     "execution_count": 96,
     "metadata": {},
     "output_type": "execute_result"
    }
   ],
   "source": [
    "str1>=str2"
   ]
  },
  {
   "cell_type": "code",
   "execution_count": 97,
   "id": "d55abfa8",
   "metadata": {},
   "outputs": [
    {
     "data": {
      "text/plain": [
       "False"
      ]
     },
     "execution_count": 97,
     "metadata": {},
     "output_type": "execute_result"
    }
   ],
   "source": [
    "str1=\"python\"\n",
    "str2=\"Python\"\n",
    "str1==str2"
   ]
  },
  {
   "cell_type": "code",
   "execution_count": 98,
   "id": "c32d8941",
   "metadata": {},
   "outputs": [
    {
     "data": {
      "text/plain": [
       "False"
      ]
     },
     "execution_count": 98,
     "metadata": {},
     "output_type": "execute_result"
    }
   ],
   "source": [
    "str1<=str2"
   ]
  },
  {
   "cell_type": "code",
   "execution_count": 99,
   "id": "8d18ea83",
   "metadata": {},
   "outputs": [
    {
     "data": {
      "text/plain": [
       "True"
      ]
     },
     "execution_count": 99,
     "metadata": {},
     "output_type": "execute_result"
    }
   ],
   "source": [
    "str1>=str2"
   ]
  },
  {
   "cell_type": "code",
   "execution_count": 102,
   "id": "814e35fe",
   "metadata": {},
   "outputs": [
    {
     "name": "stdout",
     "output_type": "stream",
     "text": [
      "False\n",
      "True\n",
      "\n"
     ]
    }
   ],
   "source": [
    "a='Python'\n",
    "b=''\n",
    "print(a==b)\n",
    "print(a!=b)\n",
    "print(a and b)"
   ]
  },
  {
   "cell_type": "code",
   "execution_count": 24,
   "id": "f0970fbd",
   "metadata": {},
   "outputs": [
    {
     "name": "stdout",
     "output_type": "stream",
     "text": [
      "Learnbay Python\n"
     ]
    }
   ],
   "source": [
    "str1 = 'Learnbay'\n",
    "str2 = 'Python'\n",
    "str3=str1+\" \"+str2\n",
    "print(str3)"
   ]
  },
  {
   "cell_type": "code",
   "execution_count": 17,
   "id": "b81a215f",
   "metadata": {},
   "outputs": [],
   "source": [
    "str1=\"This is Python Class\""
   ]
  },
  {
   "cell_type": "code",
   "execution_count": 33,
   "id": "5c8f5d5b",
   "metadata": {},
   "outputs": [
    {
     "ename": "SyntaxError",
     "evalue": "invalid syntax. Perhaps you forgot a comma? (352962675.py, line 5)",
     "output_type": "error",
     "traceback": [
      "\u001b[1;36m  Cell \u001b[1;32mIn[33], line 5\u001b[1;36m\u001b[0m\n\u001b[1;33m    print(a not b)\u001b[0m\n\u001b[1;37m          ^\u001b[0m\n\u001b[1;31mSyntaxError\u001b[0m\u001b[1;31m:\u001b[0m invalid syntax. Perhaps you forgot a comma?\n"
     ]
    }
   ],
   "source": [
    "a = 'Python'\n",
    "b = 'LearnBay'\n",
    "print(a and b)\n",
    "print(a or b)\n",
    "print(a not b)"
   ]
  },
  {
   "cell_type": "code",
   "execution_count": 46,
   "id": "f994266d",
   "metadata": {},
   "outputs": [
    {
     "name": "stdout",
     "output_type": "stream",
     "text": [
      "-1\n",
      "11\n",
      "63\n",
      "63\n"
     ]
    }
   ],
   "source": [
    "my_str = \"Although 8 that way may not be obvious at first unless you're Dutch\"\n",
    "my_str.count('t')\n",
    "my_str.index('8')\n",
    "my_str.find('8')\n",
    "print(my_str.find('the'))\n",
    "#print(my_str.index('the'))\n",
    "print(my_str.find('t', 9, 15))\n",
    "print(my_str.rfind('u'))\n",
    "print(my_str.rindex('u'))"
   ]
  },
  {
   "cell_type": "code",
   "execution_count": 48,
   "id": "e7105e2e",
   "metadata": {},
   "outputs": [
    {
     "data": {
      "text/plain": [
       "\"ALTHOUGH 8 THAT WAY MAY NOT BE OBVIOUS AT FIRST UNLESS YOU'RE DUTCH\""
      ]
     },
     "execution_count": 48,
     "metadata": {},
     "output_type": "execute_result"
    }
   ],
   "source": [
    "my_str = \"Although 8 that way may not be obvious at first unless you're Dutch\"\n",
    "my_str.upper()"
   ]
  },
  {
   "cell_type": "code",
   "execution_count": 49,
   "id": "321e8868",
   "metadata": {},
   "outputs": [
    {
     "data": {
      "text/plain": [
       "\"although 8 that way may not be obvious at first unless you're dutch\""
      ]
     },
     "execution_count": 49,
     "metadata": {},
     "output_type": "execute_result"
    }
   ],
   "source": [
    "my_str = \"Although 8 that way may not be obvious at first unless you're Dutch\"\n",
    "my_str.lower()"
   ]
  },
  {
   "cell_type": "code",
   "execution_count": 52,
   "id": "ef9a2c48",
   "metadata": {},
   "outputs": [
    {
     "data": {
      "text/plain": [
       "\"aLTHOUGH 8 THAT WAY MAY NOT BE OBVIOUS AT FIRST UNLESS YOU'RE dUTCH\""
      ]
     },
     "execution_count": 52,
     "metadata": {},
     "output_type": "execute_result"
    }
   ],
   "source": [
    "my_str = \"Although 8 that way may not be obvious at first unless you're Dutch\"\n",
    "my_str.swapcase()"
   ]
  },
  {
   "cell_type": "code",
   "execution_count": null,
   "id": "bdff032a",
   "metadata": {},
   "outputs": [],
   "source": [
    "my_str1=input(\"Enter any string:\")\n"
   ]
  },
  {
   "cell_type": "code",
   "execution_count": null,
   "id": "3ea01a07",
   "metadata": {},
   "outputs": [],
   "source": [
    "s = chr(65) + chr(97)\n",
    "print(s.isprintable())"
   ]
  },
  {
   "cell_type": "code",
   "execution_count": 60,
   "id": "1b630c4c",
   "metadata": {},
   "outputs": [
    {
     "name": "stdout",
     "output_type": "stream",
     "text": [
      "<class 'list'>\n"
     ]
    }
   ],
   "source": [
    "#list examples\n",
    "list1=[2,3,4,5]\n",
    "print (type(list1))"
   ]
  },
  {
   "cell_type": "code",
   "execution_count": 61,
   "id": "a62b2959",
   "metadata": {},
   "outputs": [
    {
     "data": {
      "text/plain": [
       "4"
      ]
     },
     "execution_count": 61,
     "metadata": {},
     "output_type": "execute_result"
    }
   ],
   "source": [
    "len(list1)"
   ]
  },
  {
   "cell_type": "code",
   "execution_count": 62,
   "id": "a4a3fcf1",
   "metadata": {},
   "outputs": [
    {
     "data": {
      "text/plain": [
       "11"
      ]
     },
     "execution_count": 62,
     "metadata": {},
     "output_type": "execute_result"
    }
   ],
   "source": [
    "list2 = [10,30,60,10,30,56,3,2,3456,3612,14]      # List of integers numbers\n",
    "len(list2)"
   ]
  },
  {
   "cell_type": "code",
   "execution_count": 64,
   "id": "74aee1a5",
   "metadata": {},
   "outputs": [
    {
     "name": "stdout",
     "output_type": "stream",
     "text": [
      "2204434013056\n"
     ]
    }
   ],
   "source": [
    "print (id(list2))"
   ]
  },
  {
   "cell_type": "code",
   "execution_count": 65,
   "id": "fdb5b207",
   "metadata": {},
   "outputs": [
    {
     "name": "stdout",
     "output_type": "stream",
     "text": [
      "2204307227792\n"
     ]
    }
   ],
   "source": [
    "print(id(list2[1]))"
   ]
  },
  {
   "cell_type": "code",
   "execution_count": 66,
   "id": "cc04e66b",
   "metadata": {},
   "outputs": [],
   "source": [
    "list4 = ['one','two' , \"three\"]   # List of strings\n"
   ]
  },
  {
   "cell_type": "code",
   "execution_count": 67,
   "id": "53e1a3dd",
   "metadata": {},
   "outputs": [],
   "source": [
    "list5 = ['Asif', 25 ,[50, 100],[150, 90]]    # Nested Lists"
   ]
  },
  {
   "cell_type": "code",
   "execution_count": 73,
   "id": "bf6e697c",
   "metadata": {},
   "outputs": [
    {
     "name": "stdout",
     "output_type": "stream",
     "text": [
      "150\n"
     ]
    }
   ],
   "source": [
    "print (list5[3][0])"
   ]
  },
  {
   "cell_type": "code",
   "execution_count": 78,
   "id": "f927a1ca",
   "metadata": {},
   "outputs": [
    {
     "data": {
      "text/plain": [
       "2"
      ]
     },
     "execution_count": 78,
     "metadata": {},
     "output_type": "execute_result"
    }
   ],
   "source": [
    "list5.index([50,100 ])"
   ]
  },
  {
   "cell_type": "code",
   "execution_count": 116,
   "id": "c554ab6c",
   "metadata": {},
   "outputs": [],
   "source": [
    "list6 = ['Asif', 25,True ,{\"one\":101,\"two\":201},{1:\"jack\",2:\"rose\"},[50, 100],[150, 90] , {'John' , 'David','Roopa','Kishore'}]"
   ]
  },
  {
   "cell_type": "code",
   "execution_count": 80,
   "id": "7b10b2b7",
   "metadata": {},
   "outputs": [
    {
     "data": {
      "text/plain": [
       "101"
      ]
     },
     "execution_count": 80,
     "metadata": {},
     "output_type": "execute_result"
    }
   ],
   "source": [
    "d={\"one\":101,\"two\":201}\n",
    "d.get(\"one\")"
   ]
  },
  {
   "cell_type": "code",
   "execution_count": 88,
   "id": "ebd11a4a",
   "metadata": {},
   "outputs": [
    {
     "data": {
      "text/plain": [
       "[True, {'one': 101, 'two': 201}, {1: 'jack', 2: 'rose'}, [50, 100]]"
      ]
     },
     "execution_count": 88,
     "metadata": {},
     "output_type": "execute_result"
    }
   ],
   "source": [
    "# [start:end-1] - slicing\n",
    "list6[2:6]"
   ]
  },
  {
   "cell_type": "code",
   "execution_count": 89,
   "id": "dcc12643",
   "metadata": {},
   "outputs": [
    {
     "data": {
      "text/plain": [
       "['Asif', 25, True, {'one': 101, 'two': 201}, {1: 'jack', 2: 'rose'}, [50, 100]]"
      ]
     },
     "execution_count": 89,
     "metadata": {},
     "output_type": "execute_result"
    }
   ],
   "source": [
    "list6[:-2]"
   ]
  },
  {
   "cell_type": "code",
   "execution_count": 101,
   "id": "1a60b15e",
   "metadata": {},
   "outputs": [
    {
     "data": {
      "text/plain": [
       "['Asif', 25, True, {'one': 101, 'two': 201}, {1: 'jack', 2: 'rose'}]"
      ]
     },
     "execution_count": 101,
     "metadata": {},
     "output_type": "execute_result"
    }
   ],
   "source": [
    "list6[:-3]"
   ]
  },
  {
   "cell_type": "code",
   "execution_count": 103,
   "id": "6b7f604d",
   "metadata": {},
   "outputs": [
    {
     "name": "stdout",
     "output_type": "stream",
     "text": [
      "[{'David', 'John'}, [150, 90], [50, 100], {1: 'jack', 2: 'rose'}, {'one': 101, 'two': 201}, True, 25, 'Asif']\n"
     ]
    }
   ],
   "source": [
    "print (list6[::-1])"
   ]
  },
  {
   "cell_type": "code",
   "execution_count": 117,
   "id": "08ac23b2",
   "metadata": {},
   "outputs": [
    {
     "data": {
      "text/plain": [
       "{'David', 'John', 'Kishore', 'Roopa'}"
      ]
     },
     "execution_count": 117,
     "metadata": {},
     "output_type": "execute_result"
    }
   ],
   "source": [
    "list6[-1]"
   ]
  },
  {
   "cell_type": "code",
   "execution_count": 111,
   "id": "fa5da862",
   "metadata": {},
   "outputs": [],
   "source": [
    "list5 = ['Asif', 25 ,[50, 100],[150, 90]]"
   ]
  },
  {
   "cell_type": "code",
   "execution_count": 112,
   "id": "df119fb7",
   "metadata": {},
   "outputs": [
    {
     "data": {
      "text/plain": [
       "[150, 90]"
      ]
     },
     "execution_count": 112,
     "metadata": {},
     "output_type": "execute_result"
    }
   ],
   "source": [
    "list5[-1]"
   ]
  },
  {
   "cell_type": "code",
   "execution_count": 119,
   "id": "2d5d75dd",
   "metadata": {},
   "outputs": [
    {
     "data": {
      "text/plain": [
       "25"
      ]
     },
     "execution_count": 119,
     "metadata": {},
     "output_type": "execute_result"
    }
   ],
   "source": [
    "list5[-3]"
   ]
  },
  {
   "cell_type": "code",
   "execution_count": 120,
   "id": "efde6ba7",
   "metadata": {},
   "outputs": [
    {
     "data": {
      "text/plain": [
       "4"
      ]
     },
     "execution_count": 120,
     "metadata": {},
     "output_type": "execute_result"
    }
   ],
   "source": [
    "len(list5)"
   ]
  },
  {
   "cell_type": "code",
   "execution_count": 122,
   "id": "3f6ccaf6",
   "metadata": {},
   "outputs": [
    {
     "name": "stdout",
     "output_type": "stream",
     "text": [
      "[{'one': 101, 'two': 201}, {1: 'jack', 2: 'rose'}, [50, 100]]\n"
     ]
    }
   ],
   "source": [
    "print (list6[3:6])"
   ]
  },
  {
   "cell_type": "code",
   "execution_count": 124,
   "id": "53e5a09f",
   "metadata": {},
   "outputs": [
    {
     "data": {
      "text/plain": [
       "[[50, 100], [150, 90]]"
      ]
     },
     "execution_count": 124,
     "metadata": {},
     "output_type": "execute_result"
    }
   ],
   "source": [
    "list5[2:]"
   ]
  },
  {
   "cell_type": "code",
   "execution_count": 125,
   "id": "d446bc44",
   "metadata": {},
   "outputs": [
    {
     "data": {
      "text/plain": [
       "['Asif', 25]"
      ]
     },
     "execution_count": 125,
     "metadata": {},
     "output_type": "execute_result"
    }
   ],
   "source": [
    "list5[:-2]"
   ]
  },
  {
   "cell_type": "code",
   "execution_count": 126,
   "id": "da5c8c9c",
   "metadata": {},
   "outputs": [
    {
     "data": {
      "text/plain": [
       "'Asif'"
      ]
     },
     "execution_count": 126,
     "metadata": {},
     "output_type": "execute_result"
    }
   ],
   "source": [
    "list5[-4]"
   ]
  },
  {
   "cell_type": "code",
   "execution_count": 127,
   "id": "9d505c51",
   "metadata": {},
   "outputs": [
    {
     "data": {
      "text/plain": [
       "['Asif', 25, [50, 100], [150, 90]]"
      ]
     },
     "execution_count": 127,
     "metadata": {},
     "output_type": "execute_result"
    }
   ],
   "source": [
    "list5[::]"
   ]
  },
  {
   "cell_type": "code",
   "execution_count": 129,
   "id": "5d0c7eab",
   "metadata": {},
   "outputs": [
    {
     "name": "stdout",
     "output_type": "stream",
     "text": [
      "['Asif', 25, True]\n",
      "[{1: 'jack', 2: 'rose'}, [50, 100], [150, 90], {'Kishore', 'David', 'Roopa', 'John'}]\n"
     ]
    }
   ],
   "source": [
    "list6 = ['Asif', 25,True ,{\"one\":101,\"two\":201},{1:\"jack\",2:\"rose\"},[50, 100],[150, 90] , {'John' , 'David','Roopa','Kishore'}]\n",
    "print(list6[:3])\n",
    "print(list6[4:])"
   ]
  },
  {
   "cell_type": "code",
   "execution_count": 130,
   "id": "9ce2c557",
   "metadata": {},
   "outputs": [
    {
     "name": "stdout",
     "output_type": "stream",
     "text": [
      "eno\n",
      "owt\n",
      "eerht\n",
      "ruof\n",
      "evif\n",
      "xis\n",
      "neves\n",
      "thgie\n",
      "enin\n",
      "net\n"
     ]
    }
   ],
   "source": [
    "mylist = ['one', 'two', 'three', 'four', 'five', 'six', 'seven', 'eight','nine','ten']\n",
    "for i in mylist:\n",
    "    print(i[::-1])"
   ]
  },
  {
   "cell_type": "code",
   "execution_count": 141,
   "id": "2ebce8d4",
   "metadata": {},
   "outputs": [
    {
     "name": "stdout",
     "output_type": "stream",
     "text": [
      "['one', 'two', 'three', 'four', 'five', 'six', 'seven', 'eight', 'nine', 'ten', 'siddu', 'siddu', 'krishna', 'siddu', 'krishna', 'siddu', 'krishna', 'siddu', 'siddu', 'krishna', 'siddu', 'krishna']\n"
     ]
    }
   ],
   "source": [
    "mylist.append('siddu')\n",
    "mylist.append('krishna')\n",
    "print (mylist)"
   ]
  },
  {
   "cell_type": "code",
   "execution_count": 143,
   "id": "d4e74a1a",
   "metadata": {},
   "outputs": [],
   "source": [
    "del mylist"
   ]
  },
  {
   "cell_type": "code",
   "execution_count": 144,
   "id": "1d7279ab",
   "metadata": {},
   "outputs": [
    {
     "ename": "NameError",
     "evalue": "name 'mylist' is not defined",
     "output_type": "error",
     "traceback": [
      "\u001b[1;31m---------------------------------------------------------------------------\u001b[0m",
      "\u001b[1;31mNameError\u001b[0m                                 Traceback (most recent call last)",
      "Cell \u001b[1;32mIn[144], line 1\u001b[0m\n\u001b[1;32m----> 1\u001b[0m \u001b[43mmylist\u001b[49m\n",
      "\u001b[1;31mNameError\u001b[0m: name 'mylist' is not defined"
     ]
    }
   ],
   "source": [
    "mylist"
   ]
  },
  {
   "cell_type": "code",
   "execution_count": 146,
   "id": "d0461c06",
   "metadata": {},
   "outputs": [
    {
     "data": {
      "text/plain": [
       "['one', 'two', 'three', 'four', 'five', 'six', 'seven']"
      ]
     },
     "execution_count": 146,
     "metadata": {},
     "output_type": "execute_result"
    }
   ],
   "source": [
    "mylist = ['one', 'two', 'three', 'four', 'five', 'six', 'seven']\n",
    "mylist"
   ]
  },
  {
   "cell_type": "code",
   "execution_count": 152,
   "id": "eea7625a",
   "metadata": {},
   "outputs": [
    {
     "name": "stdout",
     "output_type": "stream",
     "text": [
      "['one', 'two', 'three', ' ', 'siddu', 'siddu', 'siddu', 'roopa', 'roopa', 'four', 'five', 'six', 'seven']\n"
     ]
    }
   ],
   "source": [
    "mylist.insert(3,' ')\n",
    "print (mylist)"
   ]
  },
  {
   "cell_type": "code",
   "execution_count": 156,
   "id": "f63b8247",
   "metadata": {},
   "outputs": [
    {
     "ename": "ValueError",
     "evalue": "list.remove(x): x not in list",
     "output_type": "error",
     "traceback": [
      "\u001b[1;31m---------------------------------------------------------------------------\u001b[0m",
      "\u001b[1;31mValueError\u001b[0m                                Traceback (most recent call last)",
      "Cell \u001b[1;32mIn[156], line 1\u001b[0m\n\u001b[1;32m----> 1\u001b[0m \u001b[43mmylist\u001b[49m\u001b[38;5;241;43m.\u001b[39;49m\u001b[43mremove\u001b[49m\u001b[43m(\u001b[49m\u001b[38;5;124;43m\"\u001b[39;49m\u001b[38;5;124;43msiddu\u001b[39;49m\u001b[38;5;124;43m\"\u001b[39;49m\u001b[43m)\u001b[49m\n\u001b[0;32m      2\u001b[0m \u001b[38;5;28mprint\u001b[39m (mylist)\n",
      "\u001b[1;31mValueError\u001b[0m: list.remove(x): x not in list"
     ]
    }
   ],
   "source": [
    "mylist.remove(\"siddu\")\n",
    "print (mylist)"
   ]
  },
  {
   "cell_type": "code",
   "execution_count": 157,
   "id": "27d0caf3",
   "metadata": {},
   "outputs": [
    {
     "name": "stdout",
     "output_type": "stream",
     "text": [
      "['one', 'two', 'three', ' ', 'roopa', 'roopa', 'four', 'five', 'six']\n"
     ]
    }
   ],
   "source": [
    "mylist.pop()\n",
    "print (mylist)"
   ]
  },
  {
   "cell_type": "code",
   "execution_count": 160,
   "id": "f74f5cd4",
   "metadata": {},
   "outputs": [
    {
     "name": "stdout",
     "output_type": "stream",
     "text": [
      "['one', 'two', 'three', 'roopa', 'five', 'six']\n"
     ]
    }
   ],
   "source": [
    "mylist.pop(4)\n",
    "print (mylist)"
   ]
  },
  {
   "cell_type": "code",
   "execution_count": 162,
   "id": "fb7a9ea5",
   "metadata": {},
   "outputs": [
    {
     "data": {
      "text/plain": [
       "['one', 'two', 'three', 'five', 'six']"
      ]
     },
     "execution_count": 162,
     "metadata": {},
     "output_type": "execute_result"
    }
   ],
   "source": [
    "del mylist[3]\n",
    "mylist"
   ]
  },
  {
   "cell_type": "code",
   "execution_count": 164,
   "id": "b66562c5",
   "metadata": {},
   "outputs": [
    {
     "data": {
      "text/plain": [
       "['one', 'two', 'three', 'four', 'five', 'four', 'six']"
      ]
     },
     "execution_count": 164,
     "metadata": {},
     "output_type": "execute_result"
    }
   ],
   "source": [
    "mylist.insert(3,'four')\n",
    "mylist"
   ]
  },
  {
   "cell_type": "code",
   "execution_count": 165,
   "id": "b31bb573",
   "metadata": {},
   "outputs": [
    {
     "data": {
      "text/plain": [
       "['one', 'two', 'three', 'four', 'five', 'six']"
      ]
     },
     "execution_count": 165,
     "metadata": {},
     "output_type": "execute_result"
    }
   ],
   "source": [
    "del mylist[5]\n",
    "mylist"
   ]
  },
  {
   "cell_type": "code",
   "execution_count": 166,
   "id": "e5e71ba4",
   "metadata": {},
   "outputs": [
    {
     "data": {
      "text/plain": [
       "['law', 'king', 500, 'four', 'five', 'six']"
      ]
     },
     "execution_count": 166,
     "metadata": {},
     "output_type": "execute_result"
    }
   ],
   "source": [
    "# Change value of the string\n",
    "mylist[0] = \"law\"\n",
    "mylist[1] = \"king\"\n",
    "mylist[2] = 500\n",
    "mylist"
   ]
  },
  {
   "cell_type": "code",
   "execution_count": 168,
   "id": "135c4e0f",
   "metadata": {},
   "outputs": [
    {
     "name": "stdout",
     "output_type": "stream",
     "text": [
      "['law', 'king', 'banana', 'six', 'False', 'eight', 'banana', 'one']\n"
     ]
    }
   ],
   "source": [
    "q=['law', 'king', 'orange', 'six', 'False', 'eight', 'orange', 'one']\n",
    "\n",
    "for i in range(len(q)):\n",
    "    if q[i]==\"orange\":\n",
    "       q[i]=\"banana\"\n",
    "print(q)"
   ]
  },
  {
   "cell_type": "code",
   "execution_count": 169,
   "id": "66601515",
   "metadata": {},
   "outputs": [
    {
     "name": "stdout",
     "output_type": "stream",
     "text": [
      "['law', 'king', 500, 'four', 'five', 'six']\n"
     ]
    }
   ],
   "source": [
    "mylist1=mylist\n",
    "print(mylist1)"
   ]
  },
  {
   "cell_type": "code",
   "execution_count": 171,
   "id": "a2207238",
   "metadata": {},
   "outputs": [
    {
     "data": {
      "text/plain": [
       "(2204435541568, 2204435541568)"
      ]
     },
     "execution_count": 171,
     "metadata": {},
     "output_type": "execute_result"
    }
   ],
   "source": [
    "id(mylist),id(mylist1)"
   ]
  },
  {
   "cell_type": "code",
   "execution_count": 174,
   "id": "6039b496",
   "metadata": {},
   "outputs": [
    {
     "name": "stdout",
     "output_type": "stream",
     "text": [
      "['law', 'king', 500, 'four', 'five', 'six']\n"
     ]
    }
   ],
   "source": [
    "mylist2=mylist.copy()\n",
    "print (mylist2)"
   ]
  },
  {
   "cell_type": "code",
   "execution_count": 175,
   "id": "e107e1be",
   "metadata": {},
   "outputs": [],
   "source": [
    "list1 = ['one', 'two', 'three', 'four',\"34\",True,45.12]\n",
    "list2 = ['five', 'six', 'seven', 'eight','one','two']"
   ]
  },
  {
   "cell_type": "code",
   "execution_count": 177,
   "id": "24ad942c",
   "metadata": {},
   "outputs": [
    {
     "name": "stdout",
     "output_type": "stream",
     "text": [
      "['one', 'two', 'three', 'four', '34', True, 45.12, 'five', 'six', 'seven', 'eight', 'one', 'two']\n"
     ]
    }
   ],
   "source": [
    "list3=list1+list2\n",
    "print (list3)"
   ]
  },
  {
   "cell_type": "code",
   "execution_count": 178,
   "id": "232f6f2f",
   "metadata": {},
   "outputs": [
    {
     "data": {
      "text/plain": [
       "True"
      ]
     },
     "execution_count": 178,
     "metadata": {},
     "output_type": "execute_result"
    }
   ],
   "source": [
    "'two' in list2"
   ]
  },
  {
   "cell_type": "code",
   "execution_count": 179,
   "id": "2c7799bb",
   "metadata": {},
   "outputs": [
    {
     "data": {
      "text/plain": [
       "False"
      ]
     },
     "execution_count": 179,
     "metadata": {},
     "output_type": "execute_result"
    }
   ],
   "source": [
    "'ten' in list2"
   ]
  },
  {
   "cell_type": "code",
   "execution_count": 180,
   "id": "c732c558",
   "metadata": {},
   "outputs": [
    {
     "data": {
      "text/plain": [
       "['five', 'six', 'seven', 'eight', 'one', 'two']"
      ]
     },
     "execution_count": 180,
     "metadata": {},
     "output_type": "execute_result"
    }
   ],
   "source": [
    "list2"
   ]
  },
  {
   "cell_type": "code",
   "execution_count": 182,
   "id": "7852adfc",
   "metadata": {},
   "outputs": [
    {
     "name": "stdout",
     "output_type": "stream",
     "text": [
      "three is not present in list2\n",
      "['five', 'six', 'seven', 'eight', 'one', 'two']\n"
     ]
    }
   ],
   "source": [
    "if 'three' in list2:\n",
    "    print(\"three is present in list2\")\n",
    "else:\n",
    "     print(\"three is not present in list2\")\n",
    "print(list2)"
   ]
  },
  {
   "cell_type": "code",
   "execution_count": 185,
   "id": "b88150f6",
   "metadata": {},
   "outputs": [
    {
     "data": {
      "text/plain": [
       "['two', 'one', 'eight', 'seven', 'six', 'five']"
      ]
     },
     "execution_count": 185,
     "metadata": {},
     "output_type": "execute_result"
    }
   ],
   "source": [
    "list2.reverse()\n",
    "list2"
   ]
  },
  {
   "cell_type": "code",
   "execution_count": 186,
   "id": "519596f5",
   "metadata": {},
   "outputs": [
    {
     "data": {
      "text/plain": [
       "['five', 'six', 'seven', 'eight', 'one', 'two']"
      ]
     },
     "execution_count": 186,
     "metadata": {},
     "output_type": "execute_result"
    }
   ],
   "source": [
    "list3=list2[::-1]#revereses the list\n",
    "list3"
   ]
  },
  {
   "cell_type": "code",
   "execution_count": 187,
   "id": "e4641005",
   "metadata": {},
   "outputs": [
    {
     "data": {
      "text/plain": [
       "['one', 'two', 'three', 'four', '34', True, 45.12]"
      ]
     },
     "execution_count": 187,
     "metadata": {},
     "output_type": "execute_result"
    }
   ],
   "source": [
    "list1"
   ]
  },
  {
   "cell_type": "code",
   "execution_count": 190,
   "id": "205ec9d7",
   "metadata": {},
   "outputs": [
    {
     "data": {
      "text/plain": [
       "['eight', 'five', 'one', 'seven', 'six', 'two']"
      ]
     },
     "execution_count": 190,
     "metadata": {},
     "output_type": "execute_result"
    }
   ],
   "source": [
    "list2.sort()\n",
    "list2"
   ]
  },
  {
   "cell_type": "code",
   "execution_count": 191,
   "id": "6b312aae",
   "metadata": {},
   "outputs": [
    {
     "data": {
      "text/plain": [
       "['two', 'six', 'seven', 'one', 'five', 'eight']"
      ]
     },
     "execution_count": 191,
     "metadata": {},
     "output_type": "execute_result"
    }
   ],
   "source": [
    "list2.sort(reverse=True)\n",
    "list2"
   ]
  },
  {
   "cell_type": "code",
   "execution_count": 192,
   "id": "e8bfe92f",
   "metadata": {},
   "outputs": [
    {
     "data": {
      "text/plain": [
       "2"
      ]
     },
     "execution_count": 192,
     "metadata": {},
     "output_type": "execute_result"
    }
   ],
   "source": [
    "mylist3 = [9,5,2,99,12,88,34]\n",
    "min(mylist3)"
   ]
  },
  {
   "cell_type": "code",
   "execution_count": 193,
   "id": "06676e0d",
   "metadata": {},
   "outputs": [
    {
     "data": {
      "text/plain": [
       "99"
      ]
     },
     "execution_count": 193,
     "metadata": {},
     "output_type": "execute_result"
    }
   ],
   "source": [
    "max(mylist3)"
   ]
  },
  {
   "cell_type": "code",
   "execution_count": 194,
   "id": "1e11c8f6",
   "metadata": {},
   "outputs": [
    {
     "data": {
      "text/plain": [
       "249"
      ]
     },
     "execution_count": 194,
     "metadata": {},
     "output_type": "execute_result"
    }
   ],
   "source": [
    "sum(mylist3)"
   ]
  },
  {
   "cell_type": "code",
   "execution_count": 197,
   "id": "a181dd4c",
   "metadata": {},
   "outputs": [
    {
     "data": {
      "text/plain": [
       "35.57142857142857"
      ]
     },
     "execution_count": 197,
     "metadata": {},
     "output_type": "execute_result"
    }
   ],
   "source": [
    "avg=sum(mylist3)/len(mylist3)\n",
    "avg"
   ]
  },
  {
   "cell_type": "code",
   "execution_count": 201,
   "id": "22d98d25",
   "metadata": {},
   "outputs": [
    {
     "name": "stdout",
     "output_type": "stream",
     "text": [
      "9\n",
      "5\n",
      "2\n",
      "99\n",
      "12\n",
      "88\n",
      "34\n"
     ]
    }
   ],
   "source": [
    "for i in mylist3:\n",
    "    print (i)"
   ]
  },
  {
   "cell_type": "code",
   "execution_count": 203,
   "id": "b2ccfb2d",
   "metadata": {},
   "outputs": [
    {
     "name": "stdout",
     "output_type": "stream",
     "text": [
      "(0, 9)\n",
      "(1, 5)\n",
      "(2, 2)\n",
      "(3, 99)\n",
      "(4, 12)\n",
      "(5, 88)\n",
      "(6, 34)\n"
     ]
    }
   ],
   "source": [
    "for i in enumerate(mylist3):\n",
    "    print (i)"
   ]
  },
  {
   "cell_type": "code",
   "execution_count": 205,
   "id": "16c8fd70",
   "metadata": {},
   "outputs": [
    {
     "name": "stdout",
     "output_type": "stream",
     "text": [
      "0 9\n",
      "1 5\n",
      "2 2\n",
      "3 99\n",
      "4 12\n",
      "5 88\n",
      "6 34\n"
     ]
    }
   ],
   "source": [
    "for index,value in enumerate(mylist3):\n",
    "    print(index,value)"
   ]
  },
  {
   "cell_type": "code",
   "execution_count": 211,
   "id": "e50cc8b1",
   "metadata": {},
   "outputs": [
    {
     "data": {
      "text/plain": [
       "1"
      ]
     },
     "execution_count": 211,
     "metadata": {},
     "output_type": "execute_result"
    }
   ],
   "source": [
    "mylist3.count(88)"
   ]
  },
  {
   "cell_type": "code",
   "execution_count": 220,
   "id": "aa6bbc7b",
   "metadata": {},
   "outputs": [
    {
     "name": "stdout",
     "output_type": "stream",
     "text": [
      "[2, 4, 6, 8, 10, 12, 14, 16, 18, 20, 22, 24, 26, 28, 30, 32, 34, 36, 38, 40, 42, 44, 46, 48]\n"
     ]
    }
   ],
   "source": [
    "new_list=[]#print even numbers\n",
    "for i in range(1,50):\n",
    "    if i % 2==0:\n",
    "        new_list.append(i)\n",
    "print(new_list)"
   ]
  },
  {
   "cell_type": "code",
   "execution_count": 222,
   "id": "bd878a8f",
   "metadata": {},
   "outputs": [
    {
     "name": "stdout",
     "output_type": "stream",
     "text": [
      "Till How many numbers we want to find even:40\n",
      "40\n",
      "[2, 4, 6, 8, 10, 12, 14, 16, 18, 20, 22, 24, 26, 28, 30, 32, 34, 36, 38]\n"
     ]
    }
   ],
   "source": [
    "user_input=int(input(\"Till How many numbers we want to find even:\"))\n",
    "print(user_input)\n",
    "\n",
    "new_list=[item for item in range(1,user_input) if item%2==0]#list comprehension\n",
    "print(new_list)"
   ]
  },
  {
   "cell_type": "code",
   "execution_count": 229,
   "id": "c55e64f4",
   "metadata": {},
   "outputs": [
    {
     "name": "stdout",
     "output_type": "stream",
     "text": [
      "[1, 3, 5, 7, 9, 11, 13, 15, 17, 19]\n"
     ]
    }
   ],
   "source": [
    "odd_list=[i for i in range(20) if i%2==1]#list comprehension\n",
    "print(odd_list)"
   ]
  },
  {
   "cell_type": "code",
   "execution_count": 230,
   "id": "0695a188",
   "metadata": {},
   "outputs": [
    {
     "name": "stdout",
     "output_type": "stream",
     "text": [
      "[0, 2, 4, 6, 8, 10, 12, 14, 16, 18, 20, 22, 24, 26, 28]\n"
     ]
    }
   ],
   "source": [
    "even_list=[i for i in range(30) if i%2==0]#list comprehension\n",
    "print(even_list)"
   ]
  },
  {
   "cell_type": "code",
   "execution_count": 228,
   "id": "14c855f4",
   "metadata": {},
   "outputs": [
    {
     "data": {
      "text/plain": [
       "['W', 'E', 'L', 'C', 'O', 'M', 'E']"
      ]
     },
     "execution_count": 228,
     "metadata": {},
     "output_type": "execute_result"
    }
   ],
   "source": [
    "mystring = \"WELCOME\"\n",
    "mylist = [i for i in mystring] # Iterating through a string Using List Comprehension\n",
    "mylist"
   ]
  },
  {
   "cell_type": "code",
   "execution_count": 231,
   "id": "fb6446ea",
   "metadata": {},
   "outputs": [
    {
     "data": {
      "text/plain": [
       "[0, 1, 4, 9, 16, 25, 36, 49, 64, 81]"
      ]
     },
     "execution_count": 231,
     "metadata": {},
     "output_type": "execute_result"
    }
   ],
   "source": [
    "mylist3 = [num**2 for num in range(10)] # calculate square of all numbers between 0 - 10 using List Comprehension\n",
    "mylist3"
   ]
  },
  {
   "cell_type": "code",
   "execution_count": 232,
   "id": "afc8fc7d",
   "metadata": {},
   "outputs": [
    {
     "data": {
      "text/plain": [
       "[20, 30, 40, 50, 60, 70, 80]"
      ]
     },
     "execution_count": 232,
     "metadata": {},
     "output_type": "execute_result"
    }
   ],
   "source": [
    "# Multiple whole list by 10\n",
    "list1 = [2,3,4,5,6,7,8]\n",
    "list2 = [i*10 for i in list1]\n",
    "list2"
   ]
  },
  {
   "cell_type": "code",
   "execution_count": 233,
   "id": "224a06c5",
   "metadata": {},
   "outputs": [
    {
     "name": "stdout",
     "output_type": "stream",
     "text": [
      "['c', 'c']\n"
     ]
    }
   ],
   "source": [
    "a = ['a','b','a','d'] \n",
    "\n",
    "c= [i.replace(i,'c') for i in a if i == 'a'] \n",
    "print(c)"
   ]
  },
  {
   "cell_type": "code",
   "execution_count": 234,
   "id": "a44c9d4a",
   "metadata": {},
   "outputs": [
    {
     "name": "stdout",
     "output_type": "stream",
     "text": [
      "['a', 'b', 'a', 'd']\n"
     ]
    }
   ],
   "source": [
    "print(a)"
   ]
  },
  {
   "cell_type": "code",
   "execution_count": 235,
   "id": "421b2b9b",
   "metadata": {},
   "outputs": [
    {
     "data": {
      "text/plain": [
       "[0, 36, 72]"
      ]
     },
     "execution_count": 235,
     "metadata": {},
     "output_type": "execute_result"
    }
   ],
   "source": [
    "#List all numbers divisible by 3 , 9 & 12 using nested \"if\" with List Comprehension\n",
    "#default is \"and\"\n",
    "mylist4 = [i for i in range(100) if i % 3 == 0 if i % 9 == 0 if i % 12 == 0]\n",
    "mylist4"
   ]
  },
  {
   "cell_type": "code",
   "execution_count": 4,
   "id": "f8f66f9f",
   "metadata": {},
   "outputs": [
    {
     "name": "stdout",
     "output_type": "stream",
     "text": [
      "{'c': {40, 20, '10', 30}, 'd': {40, 20, '10', 30}, 'b': {40, 20, '10', 30}, 'a': {40, 20, '10', 30}}\n"
     ]
    }
   ],
   "source": [
    "keys = {'a' , 'b' , 'c' , 'd'}\n",
    "value = {'10',20,30,40}\n",
    "mydict3 = dict.fromkeys(keys , value)  # Create a dictionary from a sequence of keys with value\n",
    "print(mydict3)"
   ]
  },
  {
   "cell_type": "code",
   "execution_count": 6,
   "id": "4601f377",
   "metadata": {},
   "outputs": [
    {
     "name": "stdout",
     "output_type": "stream",
     "text": [
      "['one', 'two', 'six', 'seven', 'one', 'one', 'one', 'ten', 'eight', 'ten', 'nine', 'eleven', 'nine']\n"
     ]
    },
    {
     "data": {
      "text/plain": [
       "str"
      ]
     },
     "execution_count": 6,
     "metadata": {},
     "output_type": "execute_result"
    }
   ],
   "source": [
    "mystr4 = \"one two six seven one one one ten eight ten nine eleven  nine\"\n",
    "print(mystr4.split())\n",
    "type(mystr4)"
   ]
  },
  {
   "cell_type": "code",
   "execution_count": 7,
   "id": "b1441b87",
   "metadata": {},
   "outputs": [
    {
     "name": "stdout",
     "output_type": "stream",
     "text": [
      "Hello\n",
      "Byee\n"
     ]
    }
   ],
   "source": [
    "a = 300\n",
    "b = 3000\n",
    "\n",
    "if b == a:\n",
    "    print(\"A\")\n",
    "    print(\"B\")\n",
    "    print(\"b is greater than a\")\n",
    "\n",
    "print(\"Hello\")\n",
    "print(\"Byee\")"
   ]
  },
  {
   "cell_type": "code",
   "execution_count": 8,
   "id": "566dbc92",
   "metadata": {},
   "outputs": [
    {
     "name": "stdout",
     "output_type": "stream",
     "text": [
      "Byee\n",
      "End\n"
     ]
    }
   ],
   "source": [
    "a = 300\n",
    "b = 300\n",
    "\n",
    "if b != a:\n",
    "    print(\"A\")\n",
    "    print(\"B\")\n",
    "    print(\"b is greater than a\")\n",
    "else:\n",
    "    print(\"Byee\")\n",
    "    print(\"End\")"
   ]
  },
  {
   "cell_type": "code",
   "execution_count": 9,
   "id": "70768c4d",
   "metadata": {},
   "outputs": [
    {
     "name": "stdout",
     "output_type": "stream",
     "text": [
      "b is greater than a\n",
      "Hiieee\n",
      "Byeee\n"
     ]
    }
   ],
   "source": [
    "a = 331\n",
    "b = 3310\n",
    "\n",
    "if b > a:\n",
    "  print(\"b is greater than a\")\n",
    "elif a == b:\n",
    "  print(\"a and b are equal\")\n",
    "elif a > b:\n",
    "  print(\"a is greater than b\")\n",
    "\n",
    "print(\"Hiieee\")\n",
    "print(\"Byeee\")"
   ]
  },
  {
   "cell_type": "code",
   "execution_count": 14,
   "id": "10d44de6",
   "metadata": {},
   "outputs": [
    {
     "name": "stdout",
     "output_type": "stream",
     "text": [
      "a is greater than b\n",
      "Hiieee\n",
      "Byeee\n"
     ]
    }
   ],
   "source": [
    "a = 3310\n",
    "b = 331\n",
    "\n",
    "if b > a:\n",
    "  print(\"b is greater than a\")\n",
    "elif a == b:\n",
    "  print(\"a and b are equal\")\n",
    "elif a > b:\n",
    "  print(\"a is greater than b\")\n",
    "else:\n",
    "    print(\"No condition matches\")\n",
    "print(\"Hiieee\")\n",
    "print(\"Byeee\")"
   ]
  },
  {
   "cell_type": "code",
   "execution_count": 17,
   "id": "1ff3e8c3",
   "metadata": {},
   "outputs": [
    {
     "name": "stdout",
     "output_type": "stream",
     "text": [
      "matched\n"
     ]
    }
   ],
   "source": [
    "name=\"zack\"\n",
    "if name[0]==\"z\":\n",
    "    print(\"matched\")\n",
    "else:\n",
    "    print(\"no match\")"
   ]
  },
  {
   "cell_type": "code",
   "execution_count": 18,
   "id": "adca3e84",
   "metadata": {},
   "outputs": [
    {
     "name": "stdout",
     "output_type": "stream",
     "text": [
      "a is greater than b\n",
      "king\n",
      "Byeee\n",
      "the end\n"
     ]
    }
   ],
   "source": [
    "a = 2200\n",
    "b = 333\n",
    "if b > a:\n",
    "  print(\"b is greater than a\")\n",
    "elif a == b:\n",
    "  print(\"a and b are equal\")\n",
    "else:\n",
    "    print(\"a is greater than b\")\n",
    "    print(\"king\")\n",
    "    print(\"Byeee\")\n",
    "print(\"the end\")"
   ]
  },
  {
   "cell_type": "code",
   "execution_count": 23,
   "id": "b58fe699",
   "metadata": {},
   "outputs": [
    {
     "name": "stdout",
     "output_type": "stream",
     "text": [
      "enter your age16\n",
      "16\n",
      "cannot vote\n",
      "the end\n"
     ]
    }
   ],
   "source": [
    "age=int(input(\"enter your age\"))\n",
    "print (age)\n",
    "if age>18:\n",
    "    print(\"can vote\")\n",
    "else:\n",
    "    print(\"cannot vote\")\n",
    "print(\"the end\")"
   ]
  },
  {
   "cell_type": "code",
   "execution_count": 24,
   "id": "f8b1479e",
   "metadata": {},
   "outputs": [
    {
     "name": "stdout",
     "output_type": "stream",
     "text": [
      "Both conditions are True\n"
     ]
    }
   ],
   "source": [
    "a = 200\n",
    "b = 33\n",
    "c = 500\n",
    "if (a > b) and (c > a):\n",
    "    print(\"Both conditions are True\")\n",
    "else:\n",
    "    print(\"end\")"
   ]
  },
  {
   "cell_type": "code",
   "execution_count": 27,
   "id": "1e2bcff8",
   "metadata": {},
   "outputs": [
    {
     "name": "stdout",
     "output_type": "stream",
     "text": [
      "please entry any year:2024\n",
      "no leap year\n"
     ]
    }
   ],
   "source": [
    "n=int(input(\"please entry any year:\"))\n",
    "\n",
    "if n%4==0 and n%100==0:\n",
    "       print(\"leap year\")\n",
    "elif n%100==0:\n",
    "      print(\"not a leap year\")\n",
    "elif n%400==0:\n",
    "      print(\"Leap year\")\n",
    "else:\n",
    "      print(\"no leap year\")"
   ]
  },
  {
   "cell_type": "code",
   "execution_count": 28,
   "id": "ad88029b",
   "metadata": {},
   "outputs": [
    {
     "name": "stdout",
     "output_type": "stream",
     "text": [
      "At least one of the conditions is True\n"
     ]
    }
   ],
   "source": [
    "a = 200\n",
    "b = 33\n",
    "c = 500\n",
    "if a > b or a > c:\n",
    "    print(\"At least one of the conditions is True\")\n",
    "else:\n",
    "    print(\"end\")"
   ]
  },
  {
   "cell_type": "code",
   "execution_count": 34,
   "id": "f1f5b61c",
   "metadata": {},
   "outputs": [
    {
     "name": "stdout",
     "output_type": "stream",
     "text": [
      "Above ten,\n",
      "but not above 20.\n"
     ]
    }
   ],
   "source": [
    "x = 10\n",
    "\n",
    "if x >= 10:\n",
    "    print(\"Above ten,\")\n",
    "    if x > 20:\n",
    "        print(\"and also above 20!\")\n",
    "    else:\n",
    "        print(\"but not above 20.\")\n",
    "else:\n",
    "    print(\"byee\")"
   ]
  },
  {
   "cell_type": "code",
   "execution_count": 36,
   "id": "565d2779",
   "metadata": {},
   "outputs": [
    {
     "name": "stdout",
     "output_type": "stream",
     "text": [
      "enter a number please10\n",
      "byee\n"
     ]
    }
   ],
   "source": [
    "x = int(input(\"enter a number please\"))#user input\n",
    "\n",
    "if x > 10:\n",
    "    print(\"Above ten,\")\n",
    "    if x > 20:\n",
    "        print(\"and also above 20!\")\n",
    "    else:\n",
    "        print(\"but not above 20.\")\n",
    "else:\n",
    "    print(\"byee\")"
   ]
  },
  {
   "cell_type": "code",
   "execution_count": 40,
   "id": "2361bbd5",
   "metadata": {},
   "outputs": [
    {
     "name": "stdout",
     "output_type": "stream",
     "text": [
      "yes its divisble by 13\n"
     ]
    }
   ],
   "source": [
    "number=65\n",
    "\n",
    "if number%2==0 and number%3==0:\n",
    "    print(\"its divisble by 2 and 3\")\n",
    "\n",
    "elif number%13==0:\n",
    "    print(\"yes its divisble by 13\")\n",
    "\n",
    "else:\n",
    "    print(\"I am in else\")"
   ]
  },
  {
   "cell_type": "code",
   "execution_count": 44,
   "id": "5686f8e9",
   "metadata": {},
   "outputs": [
    {
     "name": "stdout",
     "output_type": "stream",
     "text": [
      "bye\n"
     ]
    }
   ],
   "source": [
    "name=\"daw\"\n",
    "\n",
    "if name==\"jack\":\n",
    "    print(\"hi\")\n",
    "elif name==\"daw\":\n",
    "    print(\"bye\")\n",
    "else:\n",
    "    print(\"end\")"
   ]
  },
  {
   "cell_type": "code",
   "execution_count": 52,
   "id": "07e1dd6d",
   "metadata": {},
   "outputs": [
    {
     "name": "stdout",
     "output_type": "stream",
     "text": [
      "hey\n"
     ]
    }
   ],
   "source": [
    "number = 90\n",
    "\n",
    "if number%2==0 and number%3==0:\n",
    "    print(\"hey\")\n",
    "elif number%2==0:\n",
    "    print(\"Even Number\")\n",
    "else:\n",
    "    print(\"Odd Number\")"
   ]
  },
  {
   "cell_type": "code",
   "execution_count": 68,
   "id": "751fed9a",
   "metadata": {},
   "outputs": [
    {
     "name": "stdout",
     "output_type": "stream",
     "text": [
      "Even Number\n"
     ]
    }
   ],
   "source": [
    "#difference bewtween above and below\n",
    "number = 98\n",
    "\n",
    "if number%2==0 and number%1==0:\n",
    "    print(\"Even Number\")\n",
    "#if number%2==0:\n",
    "    #print(\"Even Number\")\n",
    "#if number%3==0:\n",
    "   #print(\"Odd Number\")\n",
    "else:\n",
    "    print(\"Odd Number\")"
   ]
  },
  {
   "cell_type": "code",
   "execution_count": 55,
   "id": "70b61052",
   "metadata": {},
   "outputs": [
    {
     "name": "stdout",
     "output_type": "stream",
     "text": [
      "r\n",
      "o\n",
      "o\n",
      "p\n",
      "a\n"
     ]
    }
   ],
   "source": [
    "#For loops: to iterate a string\n",
    "name=\"roopa\"\n",
    "\n",
    "for char in name:\n",
    "    print(char)"
   ]
  },
  {
   "cell_type": "code",
   "execution_count": 56,
   "id": "15d27a07",
   "metadata": {},
   "outputs": [
    {
     "name": "stdout",
     "output_type": "stream",
     "text": [
      "apple\n",
      "banana\n",
      "cherry\n"
     ]
    }
   ],
   "source": [
    "fruits = [\"apple\", \"banana\", \"cherry\"]\n",
    "\n",
    "for fruit in fruits:\n",
    "    print(fruit)"
   ]
  },
  {
   "cell_type": "code",
   "execution_count": 57,
   "id": "e0b00d48",
   "metadata": {},
   "outputs": [
    {
     "name": "stdout",
     "output_type": "stream",
     "text": [
      "(0, 'j')\n",
      "(1, 'a')\n",
      "(2, 'c')\n",
      "(3, 'k')\n",
      "(4, 's')\n",
      "(5, 'o')\n",
      "(6, 'n')\n"
     ]
    }
   ],
   "source": [
    "name=\"jackson\"\n",
    "for item in enumerate(name):\n",
    "    print(item)"
   ]
  },
  {
   "cell_type": "code",
   "execution_count": 70,
   "id": "437fb83f",
   "metadata": {},
   "outputs": [
    {
     "name": "stdout",
     "output_type": "stream",
     "text": [
      "0 apple\n",
      "1 banana\n",
      "2 cherry\n"
     ]
    }
   ],
   "source": [
    "fruits = [\"apple\", \"banana\", \"cherry\"]\n",
    "for index,value in enumerate(fruits):\n",
    "    print(index,value)"
   ]
  },
  {
   "cell_type": "code",
   "execution_count": 71,
   "id": "cc63469e",
   "metadata": {},
   "outputs": [
    {
     "name": "stdout",
     "output_type": "stream",
     "text": [
      "(0, 'apple')\n",
      "(1, 'banana')\n",
      "(2, 'cherry')\n"
     ]
    }
   ],
   "source": [
    "fruits = [\"apple\", \"banana\", \"cherry\"]\n",
    "for fruit in enumerate(fruits):\n",
    "    print(fruit)"
   ]
  },
  {
   "cell_type": "code",
   "execution_count": 72,
   "id": "50a618bf",
   "metadata": {},
   "outputs": [
    {
     "name": "stdout",
     "output_type": "stream",
     "text": [
      "0 j\n",
      "1 a\n",
      "2 c\n",
      "3 k\n",
      "4 s\n",
      "5 o\n",
      "6 n\n"
     ]
    }
   ],
   "source": [
    "name=\"jackson\"\n",
    "for index,value in enumerate(name):\n",
    "    print(index,value)"
   ]
  },
  {
   "cell_type": "code",
   "execution_count": 73,
   "id": "4039622a",
   "metadata": {},
   "outputs": [
    {
     "name": "stdout",
     "output_type": "stream",
     "text": [
      "Hello\n",
      "Hello\n",
      "Hello\n",
      "Hello\n",
      "Hello\n"
     ]
    }
   ],
   "source": [
    "for number in range(1,6):\n",
    "    print(\"Hello\")\n",
    "        "
   ]
  },
  {
   "cell_type": "code",
   "execution_count": 74,
   "id": "0113a665",
   "metadata": {},
   "outputs": [
    {
     "name": "stdout",
     "output_type": "stream",
     "text": [
      " 1 X 1= 1\n",
      " 1 X 2= 2\n",
      " 1 X 3= 3\n",
      " 1 X 4= 4\n",
      " 1 X 5= 5\n",
      " 1 X 6= 6\n",
      " 1 X 7= 7\n",
      " 1 X 8= 8\n",
      " 1 X 9= 9\n",
      " 1 X 10= 10\n",
      "---\n",
      " 2 X 1= 2\n",
      " 2 X 2= 4\n",
      " 2 X 3= 6\n",
      " 2 X 4= 8\n",
      " 2 X 5= 10\n",
      " 2 X 6= 12\n",
      " 2 X 7= 14\n",
      " 2 X 8= 16\n",
      " 2 X 9= 18\n",
      " 2 X 10= 20\n",
      "---\n"
     ]
    }
   ],
   "source": [
    "for i in range(1,3):\n",
    "    for j in range(1,11):\n",
    "        print(f\" {i} X {j}= {i * j}\")\n",
    "    print(\"---\")\n"
   ]
  },
  {
   "cell_type": "code",
   "execution_count": 1,
   "id": "6a0c2b92",
   "metadata": {},
   "outputs": [
    {
     "name": "stdout",
     "output_type": "stream",
     "text": [
      "\n",
      "*\n",
      "**\n",
      "***\n",
      "****\n",
      "*****\n",
      "******\n",
      "*******\n",
      "********"
     ]
    }
   ],
   "source": [
    "for i in range(8):\n",
    "    print()\n",
    "    for j in range(i+1):\n",
    "        print(\"*\",end=\"\")\n",
    "        "
   ]
  },
  {
   "cell_type": "code",
   "execution_count": 2,
   "id": "80bfc767",
   "metadata": {},
   "outputs": [
    {
     "name": "stdout",
     "output_type": "stream",
     "text": [
      "2\n",
      "----*\n",
      "---***\n",
      "--*****\n",
      "-*******\n",
      "*********\n"
     ]
    }
   ],
   "source": [
    "rows=5\n",
    "mid_point=rows//2\n",
    "print(mid_point)\n",
    "\n",
    "#iterate rows\n",
    "for i in range(rows):\n",
    "    #print space before the start\n",
    "    for j in range(rows-i-1):\n",
    "        print(\"-\",end=\"\")\n",
    "\n",
    "    #print starts\n",
    "    for k in range(2*i+1):\n",
    "        print(\"*\",end=\"\")\n",
    "    print()"
   ]
  },
  {
   "cell_type": "code",
   "execution_count": 5,
   "id": "d34615d8",
   "metadata": {},
   "outputs": [
    {
     "name": "stdout",
     "output_type": "stream",
     "text": [
      "apple\n",
      "banana\n",
      "cherry\n",
      "hey\n",
      "byee\n"
     ]
    }
   ],
   "source": [
    "fruits = [\"apple\", \"banana\", \"cherry\",\"jackfruit\",\"fig\",\"kiwi\",\"banana\"]\n",
    "\n",
    "for x in fruits:\n",
    "    print(x)\n",
    "    if x==\"cherry\":\n",
    "      break \n",
    "\n",
    "print(\"hey\")\n",
    "print(\"byee\")"
   ]
  },
  {
   "cell_type": "code",
   "execution_count": 6,
   "id": "36a11ed1",
   "metadata": {},
   "outputs": [
    {
     "name": "stdout",
     "output_type": "stream",
     "text": [
      "apple\n",
      "cherry\n",
      "jackfruit\n",
      "kiwi\n",
      "bye\n"
     ]
    }
   ],
   "source": [
    "fruits = [\"apple\", \"banana\", \"cherry\",\"jackfruit\",\"fig\",\"kiwi\"]\n",
    "for x in fruits:\n",
    "    if x in [\"banana\", \"fig\"]:\n",
    "        continue\n",
    "    print(x)\n",
    "print(\"bye\")"
   ]
  },
  {
   "cell_type": "code",
   "execution_count": 7,
   "id": "aa3c0165",
   "metadata": {},
   "outputs": [
    {
     "data": {
      "text/plain": [
       "dict"
      ]
     },
     "execution_count": 7,
     "metadata": {},
     "output_type": "execute_result"
    }
   ],
   "source": [
    "mydict = {}   # empty dictionary\n",
    "type(mydict)\n"
   ]
  },
  {
   "cell_type": "code",
   "execution_count": 8,
   "id": "348b4442",
   "metadata": {},
   "outputs": [
    {
     "data": {
      "text/plain": [
       "0"
      ]
     },
     "execution_count": 8,
     "metadata": {},
     "output_type": "execute_result"
    }
   ],
   "source": [
    "len(mydict)"
   ]
  },
  {
   "cell_type": "code",
   "execution_count": 9,
   "id": "1ac00a35",
   "metadata": {},
   "outputs": [
    {
     "name": "stdout",
     "output_type": "stream",
     "text": [
      "{1: 'one', 2: 'two', 3: 'three'}\n"
     ]
    }
   ],
   "source": [
    "mydict = {1:'one' , 2:'two' , 3:'three'} # dictionary with integer keys\n",
    "print(mydict)"
   ]
  },
  {
   "cell_type": "code",
   "execution_count": 11,
   "id": "83bf1bc6",
   "metadata": {},
   "outputs": [
    {
     "data": {
      "text/plain": [
       "{1: [2, 3, 4], 3: 'three', 'jack': 1}"
      ]
     },
     "execution_count": 11,
     "metadata": {},
     "output_type": "execute_result"
    }
   ],
   "source": [
    "mydict = {1:'two',1:\"jack\" ,1:'two',1:\"jack\" ,1:[2,3,4],  3:'three',\"jack\":1} # dictionary with duplicate integer keys\n",
    "mydict"
   ]
  },
  {
   "cell_type": "code",
   "execution_count": 12,
   "id": "7bfbe1be",
   "metadata": {},
   "outputs": [
    {
     "name": "stdout",
     "output_type": "stream",
     "text": [
      "{1: None, 2: None, 3: None}\n"
     ]
    }
   ],
   "source": [
    "keys = [1,2,3] # can be set,list,tuple\n",
    "mydict = dict.fromkeys(keys)\n",
    "print (mydict)"
   ]
  },
  {
   "cell_type": "code",
   "execution_count": 13,
   "id": "8ab3a9a2",
   "metadata": {},
   "outputs": [
    {
     "name": "stdout",
     "output_type": "stream",
     "text": [
      "{'A': 'tcs', 'c': 'tcs', 'd': 'tcs', 'a': 'tcs'}\n"
     ]
    }
   ],
   "source": [
    "keys = {'a' , 'A' , 'c' , 'd'}\n",
    "value = \"tcs\"\n",
    "mydict3 = dict.fromkeys(keys , value)  # Create a dictionary from a sequence of keys with value\n",
    "print(mydict3)"
   ]
  },
  {
   "cell_type": "code",
   "execution_count": 14,
   "id": "a3e69f35",
   "metadata": {},
   "outputs": [
    {
     "data": {
      "text/plain": [
       "{'Name': 'Asif', 'ID': 12345, 'DOB': 1991, 'Address': 'Hilsinki'}"
      ]
     },
     "execution_count": 14,
     "metadata": {},
     "output_type": "execute_result"
    }
   ],
   "source": [
    "mydict1 = {'Name':'Asif' , 'ID': 12345 , 'DOB': 1991 , 'Address' : 'Hilsinki'}\n",
    "mydict1"
   ]
  },
  {
   "cell_type": "code",
   "execution_count": 15,
   "id": "aa40a2c9",
   "metadata": {},
   "outputs": [
    {
     "data": {
      "text/plain": [
       "{'Name': 'Asif', 'ID': 12345, 'DOB': 1992, 'Address': 'Delhi'}"
      ]
     },
     "execution_count": 15,
     "metadata": {},
     "output_type": "execute_result"
    }
   ],
   "source": [
    "#update/change values in a Dictionary\n",
    "mydict1['DOB'] = 1992  # Changing Dictionary Items\n",
    "mydict1['Address'] = 'Delhi'\n",
    "mydict1"
   ]
  },
  {
   "cell_type": "code",
   "execution_count": 16,
   "id": "ab37f383",
   "metadata": {},
   "outputs": [
    {
     "name": "stdout",
     "output_type": "stream",
     "text": [
      "one 1\n",
      "two 2\n",
      "three 3\n",
      "four 4\n"
     ]
    }
   ],
   "source": [
    "key = ['one' , 'two' , 'three' , 'four']\n",
    "value = [1,2,3,4,5]\n",
    "\n",
    "for k,v in zip(key,value):\n",
    "    print(k,v)"
   ]
  },
  {
   "cell_type": "code",
   "execution_count": 17,
   "id": "29a4f1d2",
   "metadata": {},
   "outputs": [
    {
     "data": {
      "text/plain": [
       "{'one': 1, 'two': 2, 'three': 3, 'four': 4, 'five': 5}"
      ]
     },
     "execution_count": 17,
     "metadata": {},
     "output_type": "execute_result"
    }
   ],
   "source": [
    "key = ['one' , 'two' , 'three' , 'four' , 'five']\n",
    "value = [1,2,3,4,5]\n",
    "\n",
    "\n",
    "mydict = {k:v for k,v in zip(key,value)} # using dict comprehension to create dictionary\n",
    "mydict"
   ]
  },
  {
   "cell_type": "code",
   "execution_count": 18,
   "id": "484626a6",
   "metadata": {},
   "outputs": [
    {
     "name": "stdout",
     "output_type": "stream",
     "text": [
      "('Person', 'Amit')\n",
      "('Contact', 892909889)\n",
      "('Address', 'Delhi')\n",
      "('Pin', 110059)\n"
     ]
    }
   ],
   "source": [
    "new_dict = {\"Person\": \"Amit\", \"Contact\": 892909889}\n",
    "\n",
    "new_dict.update([('Address',\"Delhi\"), ('Pin',110059)])\n",
    "for key in new_dict.items():\n",
    "    print(key)"
   ]
  },
  {
   "cell_type": "code",
   "execution_count": 19,
   "id": "55dfa9bd",
   "metadata": {},
   "outputs": [
    {
     "name": "stdout",
     "output_type": "stream",
     "text": [
      "{10: 20, 20: 40, 30: 60, 40: 80, 50: 100}\n"
     ]
    }
   ],
   "source": [
    "mydict1 = {'a':10 , 'b':20 , 'c':30 , 'd':40 , 'e':50}\n",
    "mydict2 = {k:k*2 for k in mydict1.values()} # Divide all values in a dictionary by 10\n",
    "print(mydict2)"
   ]
  },
  {
   "cell_type": "code",
   "execution_count": 20,
   "id": "65768cb7",
   "metadata": {},
   "outputs": [
    {
     "name": "stdout",
     "output_type": "stream",
     "text": [
      "{0: 'N', 1: 'a', 2: 't', 3: 'u', 4: 'r', 5: 'a', 6: 'l'}\n"
     ]
    }
   ],
   "source": [
    "str1 = \"Natural\"\n",
    "\n",
    "mydict2 = {k:v for (k,v) in enumerate(str1)} # Store enumerated values in a dictionary\n",
    "print(mydict2)"
   ]
  },
  {
   "cell_type": "code",
   "execution_count": 26,
   "id": "e10ddabf",
   "metadata": {},
   "outputs": [],
   "source": [
    "\n",
    "def sub_two_numbers(f_num,s_num):\n",
    "    result=f_num-s_num\n",
    "    return result\n",
    "   "
   ]
  },
  {
   "cell_type": "code",
   "execution_count": 28,
   "id": "7fc7afeb",
   "metadata": {},
   "outputs": [
    {
     "data": {
      "text/plain": [
       "20"
      ]
     },
     "execution_count": 28,
     "metadata": {},
     "output_type": "execute_result"
    }
   ],
   "source": [
    "sub_two_numbers(60,40)"
   ]
  },
  {
   "cell_type": "code",
   "execution_count": 35,
   "id": "32894b26",
   "metadata": {},
   "outputs": [],
   "source": [
    "def details(name,country,idno):\n",
    "    return name,country,idno"
   ]
  },
  {
   "cell_type": "code",
   "execution_count": 37,
   "id": "cfcb61e4",
   "metadata": {},
   "outputs": [
    {
     "data": {
      "text/plain": [
       "('roopa', 'india', '12233')"
      ]
     },
     "execution_count": 37,
     "metadata": {},
     "output_type": "execute_result"
    }
   ],
   "source": [
    "details('roopa','india','12233')"
   ]
  },
  {
   "cell_type": "code",
   "execution_count": 38,
   "id": "0d92ae89",
   "metadata": {},
   "outputs": [
    {
     "name": "stdout",
     "output_type": "stream",
     "text": [
      "60\n"
     ]
    }
   ],
   "source": [
    "result=f_num+s_num\n",
    "print(result)"
   ]
  },
  {
   "cell_type": "code",
   "execution_count": 41,
   "id": "4aac0642",
   "metadata": {},
   "outputs": [
    {
     "name": "stdout",
     "output_type": "stream",
     "text": [
      "2.0\n"
     ]
    }
   ],
   "source": [
    "res=f_num/s_num\n",
    "print(res)"
   ]
  },
  {
   "cell_type": "code",
   "execution_count": 42,
   "id": "5285e16a",
   "metadata": {},
   "outputs": [],
   "source": [
    "def add_numbers(s_num,f_num):\n",
    "    return s_num+f_num"
   ]
  },
  {
   "cell_type": "code",
   "execution_count": 43,
   "id": "c1110a3d",
   "metadata": {},
   "outputs": [
    {
     "data": {
      "text/plain": [
       "100"
      ]
     },
     "execution_count": 43,
     "metadata": {},
     "output_type": "execute_result"
    }
   ],
   "source": [
    "add_numbers(40,60)"
   ]
  },
  {
   "cell_type": "code",
   "execution_count": 44,
   "id": "7a076e02",
   "metadata": {},
   "outputs": [
    {
     "name": "stdout",
     "output_type": "stream",
     "text": [
      "Name :-  Asif\n",
      "User ID is :-  asif123\n",
      "Country :-  India\n"
     ]
    }
   ],
   "source": [
    "def details(name,userid,country): # Function to print User details\n",
    "    print('Name :- ', name)\n",
    "    print('User ID is :- ', userid)\n",
    "    print('Country :- ',country)\n",
    "    \n",
    "\n",
    "details('Asif' , 'asif123' , 'India')"
   ]
  },
  {
   "cell_type": "code",
   "execution_count": 47,
   "id": "2c644bca",
   "metadata": {},
   "outputs": [
    {
     "name": "stdout",
     "output_type": "stream",
     "text": [
      "('roopa', 'fdf', 'India')\n"
     ]
    }
   ],
   "source": [
    "details=(\"roopa\",\"fdf\",\"India\")\n",
    "print(details)"
   ]
  },
  {
   "cell_type": "code",
   "execution_count": 48,
   "id": "ad94db71",
   "metadata": {},
   "outputs": [
    {
     "name": "stdout",
     "output_type": "stream",
     "text": [
      "9  is odd number\n",
      "8  is even number\n"
     ]
    }
   ],
   "source": [
    "def even_odd (num): #Even odd test\n",
    "    \"\"\" This function will check whether a number is even or odd\"\"\"\n",
    "    if num % 2 ==0:\n",
    "        print (num, ' is even number')\n",
    "    else:\n",
    "        print (num, ' is odd number')\n",
    "\n",
    "even_odd(9)\n",
    "even_odd(8)"
   ]
  },
  {
   "cell_type": "code",
   "execution_count": 50,
   "id": "86f308f4",
   "metadata": {},
   "outputs": [
    {
     "name": "stdout",
     "output_type": "stream",
     "text": [
      "jack Asif dawson\n"
     ]
    }
   ],
   "source": [
    "#position arguments example:\n",
    "def fullname (firstname , middlename ,lastname): \n",
    "    fullname = \"{} {} {}\".format(firstname,middlename,lastname)\n",
    "    print (fullname)\n",
    "\n",
    "\n",
    "fullname('jack','Asif','dawson' )"
   ]
  },
  {
   "cell_type": "code",
   "execution_count": 51,
   "id": "cf01c674",
   "metadata": {},
   "outputs": [],
   "source": [
    "# Keyword Arguments. Order of the arguments does not matter.\n",
    "def fullname (firstname , middlename ,lastname): \n",
    "    fullname = f\"This is string formating {firstname} {middlename} {lastname}\"\n",
    "    print (fullname)\n"
   ]
  },
  {
   "cell_type": "code",
   "execution_count": 52,
   "id": "0b6a4877",
   "metadata": {},
   "outputs": [
    {
     "name": "stdout",
     "output_type": "stream",
     "text": [
      "This is string formating roopa gowni palli\n"
     ]
    }
   ],
   "source": [
    "fullname('roopa','gowni','palli')"
   ]
  },
  {
   "cell_type": "code",
   "execution_count": 53,
   "id": "68344c0e",
   "metadata": {},
   "outputs": [],
   "source": [
    "#default parameter value\n",
    "def myfunc(name,city=\"Pune\"):\n",
    "    print(\"My Name is:\",name)\n",
    "    print('My  City is:- ', city)"
   ]
  },
  {
   "cell_type": "code",
   "execution_count": 55,
   "id": "c44f326d",
   "metadata": {},
   "outputs": [
    {
     "name": "stdout",
     "output_type": "stream",
     "text": [
      "My Name is: roopa\n",
      "My  City is:-  Pune\n"
     ]
    }
   ],
   "source": [
    "myfunc('roopa')"
   ]
  },
  {
   "cell_type": "code",
   "execution_count": 56,
   "id": "d38d84cc",
   "metadata": {},
   "outputs": [
    {
     "name": "stdout",
     "output_type": "stream",
     "text": [
      "My Name is: Jack\n",
      "My  City is:-  Ladakh\n"
     ]
    }
   ],
   "source": [
    "myfunc(\"Jack\",\"Ladakh\")"
   ]
  },
  {
   "cell_type": "code",
   "execution_count": 67,
   "id": "82c37b69",
   "metadata": {},
   "outputs": [],
   "source": [
    "var1 = 100 # Variable with Global scope.\n",
    "\n",
    "def myfunc():\n",
    "    print(var1) # Value 100 will be displayed due to global scope of var1\n",
    "\n",
    "\n",
    "\n",
    "def add():\n",
    "    var3=10\n",
    "    return(var3+var1)\n",
    "    \n"
   ]
  },
  {
   "cell_type": "code",
   "execution_count": 63,
   "id": "2c235290",
   "metadata": {},
   "outputs": [
    {
     "ename": "TypeError",
     "evalue": "myfunc() takes 0 positional arguments but 1 was given",
     "output_type": "error",
     "traceback": [
      "\u001b[1;31m---------------------------------------------------------------------------\u001b[0m",
      "\u001b[1;31mTypeError\u001b[0m                                 Traceback (most recent call last)",
      "Cell \u001b[1;32mIn[63], line 1\u001b[0m\n\u001b[1;32m----> 1\u001b[0m \u001b[43mmyfunc\u001b[49m\u001b[43m(\u001b[49m\u001b[43mvar1\u001b[49m\u001b[43m)\u001b[49m\n",
      "\u001b[1;31mTypeError\u001b[0m: myfunc() takes 0 positional arguments but 1 was given"
     ]
    }
   ],
   "source": [
    "myfunc(var1)"
   ]
  },
  {
   "cell_type": "code",
   "execution_count": 68,
   "id": "741d5259",
   "metadata": {},
   "outputs": [
    {
     "name": "stdout",
     "output_type": "stream",
     "text": [
      "100\n",
      "None\n",
      "110\n"
     ]
    }
   ],
   "source": [
    "print (myfunc())\n",
    "print (add())"
   ]
  },
  {
   "cell_type": "code",
   "execution_count": 78,
   "id": "32a3957a",
   "metadata": {},
   "outputs": [],
   "source": [
    "if 10>20:\n",
    "    address=\"pune\"\n",
    "    flag=True\n",
    "    print(flag)\n",
    "else:\n",
    "    flag=False"
   ]
  },
  {
   "cell_type": "code",
   "execution_count": 73,
   "id": "d4790b6c",
   "metadata": {},
   "outputs": [
    {
     "data": {
      "text/plain": [
       "False"
      ]
     },
     "execution_count": 73,
     "metadata": {},
     "output_type": "execute_result"
    }
   ],
   "source": [
    "flag"
   ]
  },
  {
   "cell_type": "code",
   "execution_count": 77,
   "id": "42b3e29f",
   "metadata": {},
   "outputs": [
    {
     "ename": "NameError",
     "evalue": "name 'address' is not defined",
     "output_type": "error",
     "traceback": [
      "\u001b[1;31m---------------------------------------------------------------------------\u001b[0m",
      "\u001b[1;31mNameError\u001b[0m                                 Traceback (most recent call last)",
      "Cell \u001b[1;32mIn[77], line 1\u001b[0m\n\u001b[1;32m----> 1\u001b[0m \u001b[38;5;28mprint\u001b[39m (\u001b[43maddress\u001b[49m)\n",
      "\u001b[1;31mNameError\u001b[0m: name 'address' is not defined"
     ]
    }
   ],
   "source": [
    "print (address)"
   ]
  },
  {
   "cell_type": "code",
   "execution_count": 79,
   "id": "935b7ea1",
   "metadata": {},
   "outputs": [],
   "source": [
    "#Without Recursion\n",
    "def find_rec(num):\n",
    "    result=1\n",
    "    for i in range(1,num+1):\n",
    "        result=result*i\n",
    "    return result"
   ]
  },
  {
   "cell_type": "code",
   "execution_count": 82,
   "id": "82e06aed",
   "metadata": {},
   "outputs": [
    {
     "data": {
      "text/plain": [
       "720"
      ]
     },
     "execution_count": 82,
     "metadata": {},
     "output_type": "execute_result"
    }
   ],
   "source": [
    "find_rec(6)"
   ]
  },
  {
   "cell_type": "code",
   "execution_count": 1,
   "id": "80b2a595",
   "metadata": {},
   "outputs": [],
   "source": [
    "def find_factorial(num):  # Calculate factorial of a number using recursive function call.\n",
    "    if num ==1 :\n",
    "        return 1\n",
    "    else:\n",
    "        return num * find_factorial(num-1)\n",
    "    "
   ]
  },
  {
   "cell_type": "code",
   "execution_count": 2,
   "id": "d27aeb39",
   "metadata": {},
   "outputs": [
    {
     "data": {
      "text/plain": [
       "120"
      ]
     },
     "execution_count": 2,
     "metadata": {},
     "output_type": "execute_result"
    }
   ],
   "source": [
    "find_factorial(5)"
   ]
  },
  {
   "cell_type": "code",
   "execution_count": null,
   "id": "aeb56fcc",
   "metadata": {},
   "outputs": [],
   "source": [
    "def add(num):  # Sum of first n natural numbers\n",
    "    if num == 6:\n",
    "        return 6\n",
    "    else:\n",
    "        return num + add(num+1)\n",
    "\n",
    "add(7) # Sum of first five natural numbers (1,2,3,4,5)"
   ]
  },
  {
   "cell_type": "code",
   "execution_count": 3,
   "id": "cf94ea08",
   "metadata": {},
   "outputs": [
    {
     "name": "stdout",
     "output_type": "stream",
     "text": [
      "60\n"
     ]
    }
   ],
   "source": [
    "def add(a,b,c):\n",
    "    return a+b+c\n",
    "    \n",
    "print(add(10,20,30)) # Sum of two numbers"
   ]
  },
  {
   "cell_type": "code",
   "execution_count": 4,
   "id": "15f5869a",
   "metadata": {},
   "outputs": [],
   "source": [
    "def add_new(*args):\n",
    "    \n",
    "    return sum(args)\n",
    "    "
   ]
  },
  {
   "cell_type": "code",
   "execution_count": 5,
   "id": "426ca521",
   "metadata": {},
   "outputs": [
    {
     "name": "stdout",
     "output_type": "stream",
     "text": [
      "60\n",
      "30\n",
      "121\n",
      "71\n",
      "315\n"
     ]
    }
   ],
   "source": [
    "print(add_new(10,20,30))\n",
    "print(add_new(10,20))\n",
    "print(add_new(10,20,30,50,11))\n",
    "print(add_new(10,20,30,11))\n",
    "print(add_new(10,20,30,90,99,66))\n"
   ]
  },
  {
   "cell_type": "code",
   "execution_count": 6,
   "id": "2a2b4336",
   "metadata": {},
   "outputs": [
    {
     "name": "stdout",
     "output_type": "stream",
     "text": [
      "('Asif', 7412, 41102, 33.67, 'India', 'Hindi')\n"
     ]
    },
    {
     "data": {
      "text/plain": [
       "' For the above example we have no idea about the parameters passed e.g 7412 , 41102 , 33 etc.\\n    In such cases we can take help of Keyworded arguments (**kwargs) '"
      ]
     },
     "execution_count": 6,
     "metadata": {},
     "output_type": "execute_result"
    }
   ],
   "source": [
    "def UserDetails(*args):\n",
    "    print(args)\n",
    "\n",
    "UserDetails('Asif' , 7412 , 41102 , 33.67 ,  'India' , 'Hindi')\n",
    "\n",
    "''' For the above example we have no idea about the parameters passed e.g 7412 , 41102 , 33 etc.\n",
    "    In such cases we can take help of Keyworded arguments (**kwargs) '''"
   ]
  },
  {
   "cell_type": "code",
   "execution_count": 7,
   "id": "5b86ae9d",
   "metadata": {},
   "outputs": [],
   "source": [
    "def UserDetails(**kwargs):\n",
    "    print(kwargs)\n",
    "    "
   ]
  },
  {
   "cell_type": "code",
   "execution_count": 8,
   "id": "de62fda2",
   "metadata": {},
   "outputs": [
    {
     "name": "stdout",
     "output_type": "stream",
     "text": [
      "{'pincode': 7412, 'country1': 'Bhutan', 'country': 'India', 'name': 'Asif', 'agagg': 41102, 'age': 33.6, 'Language': 'Hindi'}\n"
     ]
    }
   ],
   "source": [
    "UserDetails(pincode=7412,country1=\"Bhutan\",country='India',name='Asif' ,   agagg=41102 , age= 33.6 ,   Language= 'Hindi')"
   ]
  },
  {
   "cell_type": "code",
   "execution_count": 9,
   "id": "3d05b396",
   "metadata": {},
   "outputs": [
    {
     "name": "stdout",
     "output_type": "stream",
     "text": [
      "FirstName :- Asif\n",
      "ID :- 7412\n",
      "Pincode :- 41102\n",
      "Age :- 33\n",
      "Country :- India\n",
      "Language :- Hindi\n"
     ]
    }
   ],
   "source": [
    "def UserDetails(**kwargs):\n",
    "    for key,val in kwargs.items():\n",
    "        print(\"{} :- {}\".format(key,val))\n",
    "\n",
    "UserDetails(FirstName='Asif' , ID=7412 , Pincode=41102 , Age= 33 ,  Country= 'India' , Language= 'Hindi')"
   ]
  },
  {
   "cell_type": "code",
   "execution_count": 12,
   "id": "ef1f93da",
   "metadata": {},
   "outputs": [],
   "source": [
    "def add_numbers_new(*args):\n",
    "    result=0\n",
    "    for i in args:\n",
    "        result=result+i\n",
    "        print(result)"
   ]
  },
  {
   "cell_type": "code",
   "execution_count": 13,
   "id": "f623376b",
   "metadata": {},
   "outputs": [
    {
     "name": "stdout",
     "output_type": "stream",
     "text": [
      "2\n",
      "9\n",
      "20\n",
      "25\n"
     ]
    }
   ],
   "source": [
    "add_numbers_new(2,7,11,5)"
   ]
  },
  {
   "cell_type": "code",
   "execution_count": 10,
   "id": "01eedacc",
   "metadata": {},
   "outputs": [],
   "source": [
    "num=[2,7,11,5]\n"
   ]
  },
  {
   "cell_type": "code",
   "execution_count": 2,
   "id": "3c1beee5",
   "metadata": {},
   "outputs": [
    {
     "name": "stdout",
     "output_type": "stream",
     "text": [
      "[0, 1]\n"
     ]
    }
   ],
   "source": [
    "def finding_index(target,num):\n",
    "    result=[]\n",
    "    for index in range(1,len(num)):\n",
    "        if num[index-1]+num[index]==target:\n",
    "            result.append(index-1)\n",
    "            result.append(index)\n",
    "    return result\n",
    "\n",
    "num=[2,7,11,15]\n",
    "target=9\n",
    "answer=finding_index(target,num)\n",
    "print(answer)                         "
   ]
  },
  {
   "cell_type": "code",
   "execution_count": 3,
   "id": "c5c85511",
   "metadata": {},
   "outputs": [],
   "source": [
    "def hello():\n",
    "    print(\"A\")\n",
    "    print(\"B\")\n",
    "    print(\"C\")\n",
    "    return \"Bye\""
   ]
  },
  {
   "cell_type": "code",
   "execution_count": 4,
   "id": "a071ce22",
   "metadata": {},
   "outputs": [],
   "source": [
    "def sample_generator():\n",
    "    \n",
    "    print(\"A\")\n",
    "    print(\"j\")\n",
    "    print(\"o\")\n",
    "    yield 10   #return the value and waits/pauses for next call\n",
    "    print(\"p\")\n",
    "    \n",
    "    print(\"B\")\n",
    "    yield \"jack\"\n",
    "    \n",
    "    print(\"C\")\n",
    "    yield 30\n",
    "    yield \"bye its the end\""
   ]
  },
  {
   "cell_type": "code",
   "execution_count": 5,
   "id": "c4911ea7",
   "metadata": {},
   "outputs": [
    {
     "name": "stdout",
     "output_type": "stream",
     "text": [
      "A\n",
      "j\n",
      "o\n",
      "10\n",
      "p\n",
      "B\n",
      "jack\n",
      "C\n",
      "30\n",
      "bye its the end\n"
     ]
    }
   ],
   "source": [
    "gen=sample_generator()\n",
    "print(next(gen))\n",
    "print(next(gen))\n",
    "print(next(gen))\n",
    "print(next(gen))"
   ]
  },
  {
   "cell_type": "code",
   "execution_count": 6,
   "id": "50e66773",
   "metadata": {},
   "outputs": [],
   "source": [
    "def sample_gen(x):\n",
    "    for i in range(1,x):\n",
    "        yield i"
   ]
  },
  {
   "cell_type": "code",
   "execution_count": 7,
   "id": "63ea177d",
   "metadata": {},
   "outputs": [
    {
     "name": "stdout",
     "output_type": "stream",
     "text": [
      "1\n",
      "2\n",
      "3\n",
      "4\n"
     ]
    }
   ],
   "source": [
    "obj_gen=sample_gen(10001)\n",
    "print(next(obj_gen))\n",
    "print(next(obj_gen))\n",
    "print(next(obj_gen))\n",
    "print(next(obj_gen))"
   ]
  },
  {
   "cell_type": "code",
   "execution_count": 8,
   "id": "6fa5faaa",
   "metadata": {},
   "outputs": [],
   "source": [
    "def mygen():\n",
    "    n = 1\n",
    "    yield n\n",
    "\n",
    "    n += 1\n",
    "    yield n\n",
    "\n",
    "    n +=1\n",
    "    yield n\n",
    "\n",
    "    n += 1\n",
    "    yield n\n",
    "    \n",
    "    n += 1\n",
    "    yield n"
   ]
  },
  {
   "cell_type": "code",
   "execution_count": 10,
   "id": "c20b6db8",
   "metadata": {},
   "outputs": [
    {
     "name": "stdout",
     "output_type": "stream",
     "text": [
      "1\n",
      "2\n",
      "3\n",
      "4\n",
      "5\n"
     ]
    }
   ],
   "source": [
    "mygen1 = mygen()\n",
    "print(next(mygen1))\n",
    "print(next(mygen1))\n",
    "print(next(mygen1))\n",
    "print(next(mygen1))\n",
    "print(next(mygen1))"
   ]
  },
  {
   "cell_type": "code",
   "execution_count": 12,
   "id": "6633c9d8",
   "metadata": {},
   "outputs": [],
   "source": [
    "def gen_value(first,last):\n",
    "    while first < last:\n",
    "        yield first\n",
    "        first=first+1"
   ]
  },
  {
   "cell_type": "code",
   "execution_count": 13,
   "id": "0103d253",
   "metadata": {},
   "outputs": [
    {
     "name": "stdout",
     "output_type": "stream",
     "text": [
      "2\n",
      "3\n",
      "4\n"
     ]
    }
   ],
   "source": [
    "res=gen_value(2,5)\n",
    "for i in res:\n",
    "    print(i)"
   ]
  },
  {
   "cell_type": "code",
   "execution_count": 14,
   "id": "b71d2f12",
   "metadata": {},
   "outputs": [
    {
     "name": "stdout",
     "output_type": "stream",
     "text": [
      "2\n",
      "4\n",
      "6\n",
      "8\n",
      "10\n",
      "12\n",
      "14\n",
      "16\n",
      "18\n"
     ]
    }
   ],
   "source": [
    "def mygen():\n",
    "    for i in range(1,20):\n",
    "        if i%2 == 0:\n",
    "            yield i\n",
    "\n",
    "    \n",
    "mygen1 = mygen()\n",
    "\n",
    "for i in mygen1:\n",
    "    print(i)"
   ]
  },
  {
   "cell_type": "code",
   "execution_count": 15,
   "id": "1b091f69",
   "metadata": {},
   "outputs": [
    {
     "name": "stdout",
     "output_type": "stream",
     "text": [
      "0\n",
      "1\n",
      "1\n",
      "2\n",
      "3\n",
      "5\n",
      "8\n",
      "13\n",
      "21\n",
      "34\n"
     ]
    }
   ],
   "source": [
    "# This Generator function will generate ten numbers of fibonacci series.\n",
    "def myfibo():\n",
    "    num1 , num2 = 0,1\n",
    "    count = 0\n",
    "    while count < 10:\n",
    "            yield num1\n",
    "            num1,num2 = num2,num1+num2\n",
    "            count+=1\n",
    "\n",
    "            \n",
    "fibo = myfibo()\n",
    "\n",
    "for i in fibo:\n",
    "    print(i)"
   ]
  },
  {
   "cell_type": "code",
   "execution_count": 16,
   "id": "be6db285",
   "metadata": {},
   "outputs": [
    {
     "data": {
      "text/plain": [
       "[0, 1, 1, 2, 3, 5, 8, 13, 21, 34]"
      ]
     },
     "execution_count": 16,
     "metadata": {},
     "output_type": "execute_result"
    }
   ],
   "source": [
    "list1 = list(myfibo()) # Store the fibonacci series in a list\n",
    "list1"
   ]
  },
  {
   "cell_type": "code",
   "execution_count": 18,
   "id": "071b39aa",
   "metadata": {},
   "outputs": [
    {
     "data": {
      "text/plain": [
       "[0, 1, 4, 9, 16, 25, 36, 49, 64, 81]"
      ]
     },
     "execution_count": 18,
     "metadata": {},
     "output_type": "execute_result"
    }
   ],
   "source": [
    "list2 = [i**2 for i in range(10)]  # List comprehension\n",
    "list2"
   ]
  },
  {
   "cell_type": "code",
   "execution_count": 22,
   "id": "fc4ebd44",
   "metadata": {},
   "outputs": [
    {
     "name": "stdout",
     "output_type": "stream",
     "text": [
      "0\n",
      "1\n",
      "4\n",
      "9\n",
      "16\n",
      "25\n",
      "36\n",
      "49\n",
      "64\n",
      "81\n"
     ]
    }
   ],
   "source": [
    "gen2 = (i**2 for i in range(10)) # Generator expression\n",
    "gen2\n",
    "\n",
    "for i in gen2:\n",
    "    print(i)\n",
    "          "
   ]
  },
  {
   "cell_type": "code",
   "execution_count": 27,
   "id": "acba4eb4",
   "metadata": {},
   "outputs": [
    {
     "name": "stdout",
     "output_type": "stream",
     "text": [
      "0\n",
      "2\n",
      "4\n",
      "6\n",
      "8\n",
      "10\n",
      "12\n",
      "14\n",
      "16\n",
      "18\n",
      "20\n",
      "22\n",
      "24\n",
      "26\n",
      "28\n",
      "30\n",
      "32\n",
      "34\n",
      "36\n",
      "38\n"
     ]
    }
   ],
   "source": [
    "gen2 = (i for i in range(40) if i%2 == 0) # Generator expression to generate even numbers \n",
    "gen2\n",
    "\n",
    "for i in gen2:\n",
    "    print(i)\n",
    "   \n"
   ]
  },
  {
   "cell_type": "code",
   "execution_count": 34,
   "id": "cbb9888a",
   "metadata": {},
   "outputs": [
    {
     "name": "stdout",
     "output_type": "stream",
     "text": [
      "enter the numbers separated by space:\n",
      "10 20 30 40\n",
      "total:  100\n",
      "average: 25.0\n"
     ]
    }
   ],
   "source": [
    "def calculate(lst):\n",
    "    n=len(lst)\n",
    "    sum=0\n",
    "    i=0\n",
    "    for i in lst:\n",
    "        sum+=i\n",
    "    avg=sum/n\n",
    "    return sum,avg\n",
    "    \n",
    "print(\"enter the numbers separated by space:\")\n",
    "lst=[int(x) for x in input().split()]\n",
    "x,y=calculate(lst)\n",
    "print(\"total: \",x)\n",
    "print(\"average:\",y)\n",
    "             "
   ]
  },
  {
   "cell_type": "code",
   "execution_count": 36,
   "id": "74dea101",
   "metadata": {},
   "outputs": [
    {
     "name": "stdout",
     "output_type": "stream",
     "text": [
      "multiplication of x and y: 20\n"
     ]
    }
   ],
   "source": [
    "f=lambda x,y:x*y\n",
    "value= f(4,5)\n",
    "print(\"multiplication of x and y:\",value)"
   ]
  },
  {
   "cell_type": "code",
   "execution_count": 42,
   "id": "0d720005",
   "metadata": {},
   "outputs": [
    {
     "name": "stdout",
     "output_type": "stream",
     "text": [
      "[2, 4]\n"
     ]
    }
   ],
   "source": [
    "lst=[2,3,4,5]\n",
    "lst1=list(filter(lambda x: (x%2==0), lst))\n",
    "print(lst1)"
   ]
  },
  {
   "cell_type": "code",
   "execution_count": 44,
   "id": "e2b89dad",
   "metadata": {},
   "outputs": [
    {
     "name": "stdout",
     "output_type": "stream",
     "text": [
      "[1, 4, 9, 16, 25]\n"
     ]
    }
   ],
   "source": [
    "lst=[1,2,3,4,5]\n",
    "list1=list(map(lambda x: (x*x),lst))\n",
    "print(list1)"
   ]
  },
  {
   "cell_type": "code",
   "execution_count": 45,
   "id": "98b87a74",
   "metadata": {},
   "outputs": [
    {
     "ename": "NameError",
     "evalue": "name 'reduce' is not defined",
     "output_type": "error",
     "traceback": [
      "\u001b[1;31m---------------------------------------------------------------------------\u001b[0m",
      "\u001b[1;31mNameError\u001b[0m                                 Traceback (most recent call last)",
      "Cell \u001b[1;32mIn[45], line 2\u001b[0m\n\u001b[0;32m      1\u001b[0m lst\u001b[38;5;241m=\u001b[39m[\u001b[38;5;241m1\u001b[39m,\u001b[38;5;241m2\u001b[39m,\u001b[38;5;241m3\u001b[39m,\u001b[38;5;241m4\u001b[39m,\u001b[38;5;241m5\u001b[39m]\n\u001b[1;32m----> 2\u001b[0m result\u001b[38;5;241m=\u001b[39m\u001b[43mreduce\u001b[49m(\u001b[38;5;28;01mlambda\u001b[39;00m x,y: (x\u001b[38;5;241m*\u001b[39my),lst)\n\u001b[0;32m      3\u001b[0m \u001b[38;5;28mprint\u001b[39m(result)\n",
      "\u001b[1;31mNameError\u001b[0m: name 'reduce' is not defined"
     ]
    }
   ],
   "source": [
    "lst=[1,2,3,4,5]\n",
    "result=reduce(lambda x,y: (x*y),lst)\n",
    "print(result)"
   ]
  },
  {
   "cell_type": "code",
   "execution_count": 1,
   "id": "da7bb5c1",
   "metadata": {},
   "outputs": [],
   "source": [
    "def sample_generator():\n",
    "    print(\"A\")\n",
    "    print(\"B\")\n",
    "    yield \"king\"\n",
    "    print(\"j\")\n",
    "    print(\"o\")\n",
    "    yield 10   #return the value and waits/pauses for next call\n",
    "    print(\"p\")\n",
    "\n",
    "    print(\"B\")\n",
    "    yield \"jack\"\n",
    "    \n",
    "    print(\"C\")\n",
    "    #yield 30\n",
    "    \n",
    "    yield \"bye its the end\"\n",
    "    yield 30"
   ]
  },
  {
   "cell_type": "code",
   "execution_count": 3,
   "id": "a91824f9",
   "metadata": {},
   "outputs": [
    {
     "name": "stdout",
     "output_type": "stream",
     "text": [
      "A\n",
      "B\n",
      "king\n",
      "j\n",
      "o\n",
      "10\n"
     ]
    }
   ],
   "source": [
    "gen=sample_generator()\n",
    "print(next(gen))\n",
    "print(next(gen))"
   ]
  },
  {
   "cell_type": "code",
   "execution_count": 11,
   "id": "ee998956",
   "metadata": {},
   "outputs": [],
   "source": [
    "def sample_gen(x):\n",
    "    for i in range(1,x):\n",
    "      yield i\n"
   ]
  },
  {
   "cell_type": "code",
   "execution_count": 13,
   "id": "3845250d",
   "metadata": {},
   "outputs": [
    {
     "name": "stdout",
     "output_type": "stream",
     "text": [
      "1\n"
     ]
    }
   ],
   "source": [
    "obj_gen=sample_gen(1000)\n",
    "print(next(obj_gen))"
   ]
  },
  {
   "cell_type": "code",
   "execution_count": 1,
   "id": "e9f4b2a6",
   "metadata": {},
   "outputs": [
    {
     "name": "stdout",
     "output_type": "stream",
     "text": [
      "[[1, 2], [2, 5], [3, 4]]\n"
     ]
    }
   ],
   "source": [
    "def target_sum(list1, target):\n",
    "  target_index = []\n",
    "  final_list = []\n",
    "  for i in range(len(list1)):\n",
    "    for j in range(len(list1)):\n",
    "      if i == j:\n",
    "        pass\n",
    "      elif list1[i] + list1[j] == target:\n",
    "          target_index.append([i,j])\n",
    "\n",
    "  for i in target_index:\n",
    "    i.sort()\n",
    "    if not i in final_list:\n",
    "      final_list.append(i)\n",
    "\n",
    "  print(final_list)\n",
    "\n",
    "\n",
    "target_sum([13,4,2,3,3,4,6], 6)"
   ]
  },
  {
   "cell_type": "code",
   "execution_count": 2,
   "id": "56d028e9",
   "metadata": {},
   "outputs": [
    {
     "name": "stdout",
     "output_type": "stream",
     "text": [
      "rejected\n"
     ]
    }
   ],
   "source": [
    "a = 97657679045\n",
    "\n",
    "if len(str(a)) == 10:\n",
    "    print('accepted')\n",
    "else:\n",
    "    print('rejected')"
   ]
  },
  {
   "cell_type": "code",
   "execution_count": 1,
   "id": "ba949d71",
   "metadata": {},
   "outputs": [
    {
     "name": "stdout",
     "output_type": "stream",
     "text": [
      "rejected\n"
     ]
    }
   ],
   "source": [
    "a = 97657679045\n",
    "\n",
    "if len(str(a)) == 10:\n",
    "    print('accepted')\n",
    "else:\n",
    "    print('rejected')\n",
    "    "
   ]
  },
  {
   "cell_type": "code",
   "execution_count": 2,
   "id": "b4466194",
   "metadata": {},
   "outputs": [
    {
     "name": "stdout",
     "output_type": "stream",
     "text": [
      "^C\n"
     ]
    }
   ],
   "source": [
    "!conda install numpy"
   ]
  },
  {
   "cell_type": "code",
   "execution_count": 3,
   "id": "b9e34ba2",
   "metadata": {},
   "outputs": [
    {
     "name": "stdout",
     "output_type": "stream",
     "text": [
      "Collecting package metadata (current_repodata.json): ...working... done\n",
      "Solving environment: ...working... done\n",
      "\n",
      "## Package Plan ##\n",
      "\n",
      "  environment location: C:\\ProgramData\\anaconda3\n",
      "\n",
      "  added / updated specs:\n",
      "    - numpy\n",
      "\n",
      "\n",
      "The following packages will be downloaded:\n",
      "\n",
      "    package                    |            build\n",
      "    ---------------------------|-----------------\n",
      "    ca-certificates-2023.05.30 |       haa95532_0         120 KB\n",
      "    certifi-2023.5.7           |  py310haa95532_0         153 KB\n",
      "    openssl-1.1.1u             |       h2bbff1b_0         5.5 MB\n",
      "    ------------------------------------------------------------\n",
      "                                           Total:         5.8 MB\n",
      "\n",
      "The following packages will be UPDATED:\n",
      "\n",
      "  ca-certificates                     2023.01.10-haa95532_0 --> 2023.05.30-haa95532_0 \n",
      "  certifi                         2022.12.7-py310haa95532_0 --> 2023.5.7-py310haa95532_0 \n",
      "  openssl                                 1.1.1t-h2bbff1b_0 --> 1.1.1u-h2bbff1b_0 \n",
      "\n",
      "\n",
      "\n",
      "Downloading and Extracting Packages\n",
      "\n",
      "certifi-2023.5.7     | 153 KB    |            |   0% \n",
      "\n",
      "ca-certificates-2023 | 120 KB    |            |   0% \u001b[A\n",
      "\n",
      "\n",
      "openssl-1.1.1u       | 5.5 MB    |            |   0% \u001b[A\u001b[A\n",
      "\n",
      "\n",
      "openssl-1.1.1u       | 5.5 MB    |            |   0% \u001b[A\u001b[A\n",
      "\n",
      "ca-certificates-2023 | 120 KB    | #3         |  13% \u001b[A\n",
      "certifi-2023.5.7     | 153 KB    | #          |  10% \n",
      "\n",
      "\n",
      "openssl-1.1.1u       | 5.5 MB    | ##         |  20% \u001b[A\u001b[A\n",
      "\n",
      "ca-certificates-2023 | 120 KB    | ########## | 100% \u001b[A\n",
      "\n",
      "ca-certificates-2023 | 120 KB    | ########## | 100% \u001b[A\n",
      "\n",
      "\n",
      "openssl-1.1.1u       | 5.5 MB    | ######6    |  66% \u001b[A\u001b[A\n",
      "certifi-2023.5.7     | 153 KB    | ########## | 100% \n",
      "certifi-2023.5.7     | 153 KB    | ########## | 100% \n",
      "\n",
      "\n",
      "openssl-1.1.1u       | 5.5 MB    | ########## | 100% \u001b[A\u001b[A\n",
      "\n",
      "\n",
      "openssl-1.1.1u       | 5.5 MB    | ########## | 100% \u001b[A\u001b[A\n",
      "                                                     \n",
      "\n",
      "\n",
      "                                                     \u001b[A\n",
      "\n",
      "\n",
      "                                                     \u001b[A\u001b[A\n",
      "\n",
      "Preparing transaction: ...working... done\n",
      "Verifying transaction: ...working... failed\n",
      "\n",
      "Note: you may need to restart the kernel to use updated packages.\n"
     ]
    },
    {
     "name": "stderr",
     "output_type": "stream",
     "text": [
      "\n",
      "\n",
      "==> WARNING: A newer version of conda exists. <==\n",
      "  current version: 23.3.1\n",
      "  latest version: 23.5.2\n",
      "\n",
      "Please update conda by running\n",
      "\n",
      "    $ conda update -n base -c defaults conda\n",
      "\n",
      "Or to minimize the number of packages updated during conda update use\n",
      "\n",
      "     conda install conda=23.5.2\n",
      "\n",
      "\n",
      "\n",
      "EnvironmentNotWritableError: The current user does not have write permissions to the target environment.\n",
      "  environment location: C:\\ProgramData\\anaconda3\n",
      "\n",
      "\n"
     ]
    }
   ],
   "source": [
    "conda install numpy"
   ]
  },
  {
   "cell_type": "code",
   "execution_count": 4,
   "id": "9fbe8f42",
   "metadata": {},
   "outputs": [
    {
     "name": "stdout",
     "output_type": "stream",
     "text": [
      "Defaulting to user installation because normal site-packages is not writeable\n",
      "Requirement already satisfied: NumPy in c:\\programdata\\anaconda3\\lib\\site-packages (1.23.5)\n"
     ]
    }
   ],
   "source": [
    "!pip install NumPy"
   ]
  },
  {
   "cell_type": "code",
   "execution_count": 7,
   "id": "4b5d4ac6",
   "metadata": {},
   "outputs": [
    {
     "name": "stderr",
     "output_type": "stream",
     "text": [
      "'np.__version__' is not recognized as an internal or external command,\n",
      "operable program or batch file.\n"
     ]
    }
   ],
   "source": [
    "!np.__version__"
   ]
  },
  {
   "cell_type": "code",
   "execution_count": 3,
   "id": "83143c1f",
   "metadata": {},
   "outputs": [
    {
     "name": "stdout",
     "output_type": "stream",
     "text": [
      "sum of two numbers 30\n"
     ]
    }
   ],
   "source": [
    "a=10\n",
    "b=20\n",
    "c=a+b\n",
    "print(\"sum of two numbers\",c)"
   ]
  },
  {
   "cell_type": "code",
   "execution_count": null,
   "id": "af916766",
   "metadata": {},
   "outputs": [],
   "source": []
  },
  {
   "cell_type": "code",
   "execution_count": null,
   "id": "f9e6d8aa",
   "metadata": {},
   "outputs": [],
   "source": []
  }
 ],
 "metadata": {
  "kernelspec": {
   "display_name": "Python 3 (ipykernel)",
   "language": "python",
   "name": "python3"
  },
  "language_info": {
   "codemirror_mode": {
    "name": "ipython",
    "version": 3
   },
   "file_extension": ".py",
   "mimetype": "text/x-python",
   "name": "python",
   "nbconvert_exporter": "python",
   "pygments_lexer": "ipython3",
   "version": "3.10.9"
  }
 },
 "nbformat": 4,
 "nbformat_minor": 5
}
